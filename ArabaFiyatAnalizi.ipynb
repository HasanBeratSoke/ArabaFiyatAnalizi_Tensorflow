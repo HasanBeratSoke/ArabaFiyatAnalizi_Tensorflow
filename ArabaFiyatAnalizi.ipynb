{
 "cells": [
  {
   "cell_type": "markdown",
   "id": "3de359ea",
   "metadata": {},
   "source": [
    "# araba fiyat analizi ve tahmini\n"
   ]
  },
  {
   "cell_type": "code",
   "execution_count": 5,
   "id": "7bd1231f",
   "metadata": {},
   "outputs": [],
   "source": [
    "import numpy as np\n",
    "import pandas as pd\n",
    "import seaborn as sbn\n",
    "import matplotlib.pyplot as plt"
   ]
  },
  {
   "cell_type": "code",
   "execution_count": 6,
   "id": "ca63ca29",
   "metadata": {},
   "outputs": [],
   "source": [
    "df = pd.read_excel('merc.xlsx') # exel verisini okundu"
   ]
  },
  {
   "cell_type": "code",
   "execution_count": 8,
   "id": "62d5288c",
   "metadata": {},
   "outputs": [
    {
     "data": {
      "text/html": [
       "<div>\n",
       "<style scoped>\n",
       "    .dataframe tbody tr th:only-of-type {\n",
       "        vertical-align: middle;\n",
       "    }\n",
       "\n",
       "    .dataframe tbody tr th {\n",
       "        vertical-align: top;\n",
       "    }\n",
       "\n",
       "    .dataframe thead th {\n",
       "        text-align: right;\n",
       "    }\n",
       "</style>\n",
       "<table border=\"1\" class=\"dataframe\">\n",
       "  <thead>\n",
       "    <tr style=\"text-align: right;\">\n",
       "      <th></th>\n",
       "      <th>year</th>\n",
       "      <th>price</th>\n",
       "      <th>transmission</th>\n",
       "      <th>mileage</th>\n",
       "      <th>tax</th>\n",
       "      <th>mpg</th>\n",
       "      <th>engineSize</th>\n",
       "    </tr>\n",
       "  </thead>\n",
       "  <tbody>\n",
       "    <tr>\n",
       "      <th>0</th>\n",
       "      <td>2005</td>\n",
       "      <td>5200</td>\n",
       "      <td>Automatic</td>\n",
       "      <td>63000</td>\n",
       "      <td>325</td>\n",
       "      <td>32.1</td>\n",
       "      <td>1.8</td>\n",
       "    </tr>\n",
       "    <tr>\n",
       "      <th>1</th>\n",
       "      <td>2017</td>\n",
       "      <td>34948</td>\n",
       "      <td>Automatic</td>\n",
       "      <td>27000</td>\n",
       "      <td>20</td>\n",
       "      <td>61.4</td>\n",
       "      <td>2.1</td>\n",
       "    </tr>\n",
       "    <tr>\n",
       "      <th>2</th>\n",
       "      <td>2016</td>\n",
       "      <td>49948</td>\n",
       "      <td>Automatic</td>\n",
       "      <td>6200</td>\n",
       "      <td>555</td>\n",
       "      <td>28.0</td>\n",
       "      <td>5.5</td>\n",
       "    </tr>\n",
       "    <tr>\n",
       "      <th>3</th>\n",
       "      <td>2016</td>\n",
       "      <td>61948</td>\n",
       "      <td>Automatic</td>\n",
       "      <td>16000</td>\n",
       "      <td>325</td>\n",
       "      <td>30.4</td>\n",
       "      <td>4.0</td>\n",
       "    </tr>\n",
       "    <tr>\n",
       "      <th>4</th>\n",
       "      <td>2016</td>\n",
       "      <td>73948</td>\n",
       "      <td>Automatic</td>\n",
       "      <td>4000</td>\n",
       "      <td>325</td>\n",
       "      <td>30.1</td>\n",
       "      <td>4.0</td>\n",
       "    </tr>\n",
       "  </tbody>\n",
       "</table>\n",
       "</div>"
      ],
      "text/plain": [
       "   year  price transmission  mileage  tax   mpg  engineSize\n",
       "0  2005   5200    Automatic    63000  325  32.1         1.8\n",
       "1  2017  34948    Automatic    27000   20  61.4         2.1\n",
       "2  2016  49948    Automatic     6200  555  28.0         5.5\n",
       "3  2016  61948    Automatic    16000  325  30.4         4.0\n",
       "4  2016  73948    Automatic     4000  325  30.1         4.0"
      ]
     },
     "execution_count": 8,
     "metadata": {},
     "output_type": "execute_result"
    }
   ],
   "source": [
    "df.head()"
   ]
  },
  {
   "cell_type": "code",
   "execution_count": 9,
   "id": "2e81e23e",
   "metadata": {},
   "outputs": [],
   "source": [
    "# tax = vergilendirme\n",
    "# mpg = ne kadar yaktigini\n",
    "# enginesize = motor hacmi/kuvveti"
   ]
  },
  {
   "cell_type": "code",
   "execution_count": 10,
   "id": "630e3dd5",
   "metadata": {},
   "outputs": [
    {
     "data": {
      "text/html": [
       "<div>\n",
       "<style scoped>\n",
       "    .dataframe tbody tr th:only-of-type {\n",
       "        vertical-align: middle;\n",
       "    }\n",
       "\n",
       "    .dataframe tbody tr th {\n",
       "        vertical-align: top;\n",
       "    }\n",
       "\n",
       "    .dataframe thead th {\n",
       "        text-align: right;\n",
       "    }\n",
       "</style>\n",
       "<table border=\"1\" class=\"dataframe\">\n",
       "  <thead>\n",
       "    <tr style=\"text-align: right;\">\n",
       "      <th></th>\n",
       "      <th>count</th>\n",
       "      <th>mean</th>\n",
       "      <th>std</th>\n",
       "      <th>min</th>\n",
       "      <th>25%</th>\n",
       "      <th>50%</th>\n",
       "      <th>75%</th>\n",
       "      <th>max</th>\n",
       "    </tr>\n",
       "  </thead>\n",
       "  <tbody>\n",
       "    <tr>\n",
       "      <th>year</th>\n",
       "      <td>13119.0</td>\n",
       "      <td>2017.296288</td>\n",
       "      <td>2.224709</td>\n",
       "      <td>1970.0</td>\n",
       "      <td>2016.0</td>\n",
       "      <td>2018.0</td>\n",
       "      <td>2019.0</td>\n",
       "      <td>2020.0</td>\n",
       "    </tr>\n",
       "    <tr>\n",
       "      <th>price</th>\n",
       "      <td>13119.0</td>\n",
       "      <td>24698.596920</td>\n",
       "      <td>11842.675542</td>\n",
       "      <td>650.0</td>\n",
       "      <td>17450.0</td>\n",
       "      <td>22480.0</td>\n",
       "      <td>28980.0</td>\n",
       "      <td>159999.0</td>\n",
       "    </tr>\n",
       "    <tr>\n",
       "      <th>mileage</th>\n",
       "      <td>13119.0</td>\n",
       "      <td>21949.559037</td>\n",
       "      <td>21176.512267</td>\n",
       "      <td>1.0</td>\n",
       "      <td>6097.5</td>\n",
       "      <td>15189.0</td>\n",
       "      <td>31779.5</td>\n",
       "      <td>259000.0</td>\n",
       "    </tr>\n",
       "    <tr>\n",
       "      <th>tax</th>\n",
       "      <td>13119.0</td>\n",
       "      <td>129.972178</td>\n",
       "      <td>65.260286</td>\n",
       "      <td>0.0</td>\n",
       "      <td>125.0</td>\n",
       "      <td>145.0</td>\n",
       "      <td>145.0</td>\n",
       "      <td>580.0</td>\n",
       "    </tr>\n",
       "    <tr>\n",
       "      <th>mpg</th>\n",
       "      <td>13119.0</td>\n",
       "      <td>55.155843</td>\n",
       "      <td>15.220082</td>\n",
       "      <td>1.1</td>\n",
       "      <td>45.6</td>\n",
       "      <td>56.5</td>\n",
       "      <td>64.2</td>\n",
       "      <td>217.3</td>\n",
       "    </tr>\n",
       "    <tr>\n",
       "      <th>engineSize</th>\n",
       "      <td>13119.0</td>\n",
       "      <td>2.071530</td>\n",
       "      <td>0.572426</td>\n",
       "      <td>0.0</td>\n",
       "      <td>1.8</td>\n",
       "      <td>2.0</td>\n",
       "      <td>2.1</td>\n",
       "      <td>6.2</td>\n",
       "    </tr>\n",
       "  </tbody>\n",
       "</table>\n",
       "</div>"
      ],
      "text/plain": [
       "              count          mean           std     min      25%      50%  \\\n",
       "year        13119.0   2017.296288      2.224709  1970.0   2016.0   2018.0   \n",
       "price       13119.0  24698.596920  11842.675542   650.0  17450.0  22480.0   \n",
       "mileage     13119.0  21949.559037  21176.512267     1.0   6097.5  15189.0   \n",
       "tax         13119.0    129.972178     65.260286     0.0    125.0    145.0   \n",
       "mpg         13119.0     55.155843     15.220082     1.1     45.6     56.5   \n",
       "engineSize  13119.0      2.071530      0.572426     0.0      1.8      2.0   \n",
       "\n",
       "                75%       max  \n",
       "year         2019.0    2020.0  \n",
       "price       28980.0  159999.0  \n",
       "mileage     31779.5  259000.0  \n",
       "tax           145.0     580.0  \n",
       "mpg            64.2     217.3  \n",
       "engineSize      2.1       6.2  "
      ]
     },
     "execution_count": 10,
     "metadata": {},
     "output_type": "execute_result"
    }
   ],
   "source": [
    "df.describe().T # veri setimizi taniyalim"
   ]
  },
  {
   "cell_type": "code",
   "execution_count": 14,
   "id": "6976bcff",
   "metadata": {},
   "outputs": [
    {
     "data": {
      "text/plain": [
       "year            0\n",
       "price           0\n",
       "transmission    0\n",
       "mileage         0\n",
       "tax             0\n",
       "mpg             0\n",
       "engineSize      0\n",
       "dtype: int64"
      ]
     },
     "execution_count": 14,
     "metadata": {},
     "output_type": "execute_result"
    }
   ],
   "source": [
    "df.isnull().sum() # bos verimiz yok "
   ]
  },
  {
   "cell_type": "code",
   "execution_count": 15,
   "id": "5aa4cc0c",
   "metadata": {},
   "outputs": [
    {
     "data": {
      "text/plain": [
       "<seaborn.axisgrid.FacetGrid at 0x1eb928adf70>"
      ]
     },
     "execution_count": 15,
     "metadata": {},
     "output_type": "execute_result"
    },
    {
     "data": {
      "image/png": "[encoded data removed]",
      "text/plain": [
       "<Figure size 360x360 with 1 Axes>"
      ]
     },
     "metadata": {
      "needs_background": "light"
     },
     "output_type": "display_data"
    }
   ],
   "source": [
    "sbn.displot(data = df['price']) # fiyat dagilimi"
   ]
  },
  {
   "cell_type": "code",
   "execution_count": 16,
   "id": "30f5a65f",
   "metadata": {},
   "outputs": [
    {
     "name": "stderr",
     "output_type": "stream",
     "text": [
      "C:\\Users\\hasan\\anaconda3\\lib\\site-packages\\seaborn\\_decorators.py:36: FutureWarning: Pass the following variable as a keyword arg: x. From version 0.12, the only valid positional argument will be `data`, and passing other arguments without an explicit keyword will result in an error or misinterpretation.\n",
      "  warnings.warn(\n"
     ]
    },
    {
     "data": {
      "text/plain": [
       "<AxesSubplot:xlabel='year', ylabel='count'>"
      ]
     },
     "execution_count": 16,
     "metadata": {},
     "output_type": "execute_result"
    },
    {
     "data": {
      "image/png": "[encoded data removed]",
      "text/plain": [
       "<Figure size 432x288 with 1 Axes>"
      ]
     },
     "metadata": {
      "needs_background": "light"
     },
     "output_type": "display_data"
    }
   ],
   "source": [
    "sbn.countplot(df['year'])"
   ]
  },
  {
   "cell_type": "code",
   "execution_count": 17,
   "id": "a3b970be",
   "metadata": {},
   "outputs": [
    {
     "data": {
      "text/html": [
       "<div>\n",
       "<style scoped>\n",
       "    .dataframe tbody tr th:only-of-type {\n",
       "        vertical-align: middle;\n",
       "    }\n",
       "\n",
       "    .dataframe tbody tr th {\n",
       "        vertical-align: top;\n",
       "    }\n",
       "\n",
       "    .dataframe thead th {\n",
       "        text-align: right;\n",
       "    }\n",
       "</style>\n",
       "<table border=\"1\" class=\"dataframe\">\n",
       "  <thead>\n",
       "    <tr style=\"text-align: right;\">\n",
       "      <th></th>\n",
       "      <th>year</th>\n",
       "      <th>price</th>\n",
       "      <th>mileage</th>\n",
       "      <th>tax</th>\n",
       "      <th>mpg</th>\n",
       "      <th>engineSize</th>\n",
       "    </tr>\n",
       "  </thead>\n",
       "  <tbody>\n",
       "    <tr>\n",
       "      <th>year</th>\n",
       "      <td>1.000000</td>\n",
       "      <td>0.520712</td>\n",
       "      <td>-0.738027</td>\n",
       "      <td>0.012480</td>\n",
       "      <td>-0.094626</td>\n",
       "      <td>-0.142147</td>\n",
       "    </tr>\n",
       "    <tr>\n",
       "      <th>price</th>\n",
       "      <td>0.520712</td>\n",
       "      <td>1.000000</td>\n",
       "      <td>-0.537214</td>\n",
       "      <td>0.268717</td>\n",
       "      <td>-0.438445</td>\n",
       "      <td>0.516126</td>\n",
       "    </tr>\n",
       "    <tr>\n",
       "      <th>mileage</th>\n",
       "      <td>-0.738027</td>\n",
       "      <td>-0.537214</td>\n",
       "      <td>1.000000</td>\n",
       "      <td>-0.160223</td>\n",
       "      <td>0.202850</td>\n",
       "      <td>0.063652</td>\n",
       "    </tr>\n",
       "    <tr>\n",
       "      <th>tax</th>\n",
       "      <td>0.012480</td>\n",
       "      <td>0.268717</td>\n",
       "      <td>-0.160223</td>\n",
       "      <td>1.000000</td>\n",
       "      <td>-0.513742</td>\n",
       "      <td>0.338341</td>\n",
       "    </tr>\n",
       "    <tr>\n",
       "      <th>mpg</th>\n",
       "      <td>-0.094626</td>\n",
       "      <td>-0.438445</td>\n",
       "      <td>0.202850</td>\n",
       "      <td>-0.513742</td>\n",
       "      <td>1.000000</td>\n",
       "      <td>-0.339862</td>\n",
       "    </tr>\n",
       "    <tr>\n",
       "      <th>engineSize</th>\n",
       "      <td>-0.142147</td>\n",
       "      <td>0.516126</td>\n",
       "      <td>0.063652</td>\n",
       "      <td>0.338341</td>\n",
       "      <td>-0.339862</td>\n",
       "      <td>1.000000</td>\n",
       "    </tr>\n",
       "  </tbody>\n",
       "</table>\n",
       "</div>"
      ],
      "text/plain": [
       "                year     price   mileage       tax       mpg  engineSize\n",
       "year        1.000000  0.520712 -0.738027  0.012480 -0.094626   -0.142147\n",
       "price       0.520712  1.000000 -0.537214  0.268717 -0.438445    0.516126\n",
       "mileage    -0.738027 -0.537214  1.000000 -0.160223  0.202850    0.063652\n",
       "tax         0.012480  0.268717 -0.160223  1.000000 -0.513742    0.338341\n",
       "mpg        -0.094626 -0.438445  0.202850 -0.513742  1.000000   -0.339862\n",
       "engineSize -0.142147  0.516126  0.063652  0.338341 -0.339862    1.000000"
      ]
     },
     "execution_count": 17,
     "metadata": {},
     "output_type": "execute_result"
    }
   ],
   "source": [
    "df.corr() # korelesayon"
   ]
  },
  {
   "cell_type": "code",
   "execution_count": 18,
   "id": "779f8656",
   "metadata": {},
   "outputs": [
    {
     "data": {
      "text/plain": [
       "mileage      -0.537214\n",
       "mpg          -0.438445\n",
       "tax           0.268717\n",
       "engineSize    0.516126\n",
       "year          0.520712\n",
       "price         1.000000\n",
       "Name: price, dtype: float64"
      ]
     },
     "execution_count": 18,
     "metadata": {},
     "output_type": "execute_result"
    }
   ],
   "source": [
    "df.corr()['price'].sort_values()"
   ]
  },
  {
   "cell_type": "code",
   "execution_count": 19,
   "id": "5d6236c5",
   "metadata": {},
   "outputs": [],
   "source": [
    "# milage arttikca fiyat dusuyor yani negatif bi etisi vardir"
   ]
  },
  {
   "cell_type": "code",
   "execution_count": 21,
   "id": "d7d478cc",
   "metadata": {},
   "outputs": [
    {
     "data": {
      "text/plain": [
       "<AxesSubplot:xlabel='mileage', ylabel='price'>"
      ]
     },
     "execution_count": 21,
     "metadata": {},
     "output_type": "execute_result"
    },
    {
     "data": {
      "image/png": "[encoded data removed]",
      "text/plain": [
       "<Figure size 432x288 with 1 Axes>"
      ]
     },
     "metadata": {
      "needs_background": "light"
     },
     "output_type": "display_data"
    }
   ],
   "source": [
    "sbn.scatterplot(x='mileage', y= 'price', data=df)"
   ]
  },
  {
   "cell_type": "code",
   "execution_count": 22,
   "id": "7c906dcd",
   "metadata": {},
   "outputs": [
    {
     "data": {
      "text/html": [
       "<div>\n",
       "<style scoped>\n",
       "    .dataframe tbody tr th:only-of-type {\n",
       "        vertical-align: middle;\n",
       "    }\n",
       "\n",
       "    .dataframe tbody tr th {\n",
       "        vertical-align: top;\n",
       "    }\n",
       "\n",
       "    .dataframe thead th {\n",
       "        text-align: right;\n",
       "    }\n",
       "</style>\n",
       "<table border=\"1\" class=\"dataframe\">\n",
       "  <thead>\n",
       "    <tr style=\"text-align: right;\">\n",
       "      <th></th>\n",
       "      <th>year</th>\n",
       "      <th>price</th>\n",
       "      <th>transmission</th>\n",
       "      <th>mileage</th>\n",
       "      <th>tax</th>\n",
       "      <th>mpg</th>\n",
       "      <th>engineSize</th>\n",
       "    </tr>\n",
       "  </thead>\n",
       "  <tbody>\n",
       "    <tr>\n",
       "      <th>6199</th>\n",
       "      <td>2020</td>\n",
       "      <td>159999</td>\n",
       "      <td>Semi-Auto</td>\n",
       "      <td>1350</td>\n",
       "      <td>145</td>\n",
       "      <td>21.4</td>\n",
       "      <td>4.0</td>\n",
       "    </tr>\n",
       "    <tr>\n",
       "      <th>10044</th>\n",
       "      <td>2020</td>\n",
       "      <td>154998</td>\n",
       "      <td>Automatic</td>\n",
       "      <td>3000</td>\n",
       "      <td>150</td>\n",
       "      <td>21.4</td>\n",
       "      <td>4.0</td>\n",
       "    </tr>\n",
       "    <tr>\n",
       "      <th>5</th>\n",
       "      <td>2011</td>\n",
       "      <td>149948</td>\n",
       "      <td>Automatic</td>\n",
       "      <td>3000</td>\n",
       "      <td>570</td>\n",
       "      <td>21.4</td>\n",
       "      <td>6.2</td>\n",
       "    </tr>\n",
       "    <tr>\n",
       "      <th>8737</th>\n",
       "      <td>2019</td>\n",
       "      <td>140319</td>\n",
       "      <td>Semi-Auto</td>\n",
       "      <td>785</td>\n",
       "      <td>150</td>\n",
       "      <td>22.1</td>\n",
       "      <td>4.0</td>\n",
       "    </tr>\n",
       "    <tr>\n",
       "      <th>6386</th>\n",
       "      <td>2018</td>\n",
       "      <td>139995</td>\n",
       "      <td>Semi-Auto</td>\n",
       "      <td>13046</td>\n",
       "      <td>145</td>\n",
       "      <td>21.4</td>\n",
       "      <td>4.0</td>\n",
       "    </tr>\n",
       "    <tr>\n",
       "      <th>8</th>\n",
       "      <td>2019</td>\n",
       "      <td>139948</td>\n",
       "      <td>Automatic</td>\n",
       "      <td>12000</td>\n",
       "      <td>145</td>\n",
       "      <td>21.4</td>\n",
       "      <td>4.0</td>\n",
       "    </tr>\n",
       "    <tr>\n",
       "      <th>9133</th>\n",
       "      <td>2019</td>\n",
       "      <td>139559</td>\n",
       "      <td>Semi-Auto</td>\n",
       "      <td>1000</td>\n",
       "      <td>145</td>\n",
       "      <td>22.1</td>\n",
       "      <td>4.0</td>\n",
       "    </tr>\n",
       "    <tr>\n",
       "      <th>8821</th>\n",
       "      <td>2020</td>\n",
       "      <td>138439</td>\n",
       "      <td>Semi-Auto</td>\n",
       "      <td>1000</td>\n",
       "      <td>145</td>\n",
       "      <td>22.1</td>\n",
       "      <td>4.0</td>\n",
       "    </tr>\n",
       "    <tr>\n",
       "      <th>5902</th>\n",
       "      <td>2018</td>\n",
       "      <td>135771</td>\n",
       "      <td>Semi-Auto</td>\n",
       "      <td>19000</td>\n",
       "      <td>145</td>\n",
       "      <td>21.4</td>\n",
       "      <td>4.0</td>\n",
       "    </tr>\n",
       "    <tr>\n",
       "      <th>7864</th>\n",
       "      <td>2018</td>\n",
       "      <td>135124</td>\n",
       "      <td>Semi-Auto</td>\n",
       "      <td>18234</td>\n",
       "      <td>150</td>\n",
       "      <td>21.4</td>\n",
       "      <td>4.0</td>\n",
       "    </tr>\n",
       "    <tr>\n",
       "      <th>8673</th>\n",
       "      <td>2019</td>\n",
       "      <td>134219</td>\n",
       "      <td>Semi-Auto</td>\n",
       "      <td>1000</td>\n",
       "      <td>145</td>\n",
       "      <td>24.8</td>\n",
       "      <td>4.0</td>\n",
       "    </tr>\n",
       "    <tr>\n",
       "      <th>6210</th>\n",
       "      <td>2019</td>\n",
       "      <td>129990</td>\n",
       "      <td>Automatic</td>\n",
       "      <td>1000</td>\n",
       "      <td>145</td>\n",
       "      <td>24.8</td>\n",
       "      <td>4.0</td>\n",
       "    </tr>\n",
       "    <tr>\n",
       "      <th>4759</th>\n",
       "      <td>2019</td>\n",
       "      <td>126000</td>\n",
       "      <td>Automatic</td>\n",
       "      <td>250</td>\n",
       "      <td>145</td>\n",
       "      <td>24.6</td>\n",
       "      <td>4.0</td>\n",
       "    </tr>\n",
       "    <tr>\n",
       "      <th>2647</th>\n",
       "      <td>2019</td>\n",
       "      <td>125796</td>\n",
       "      <td>Automatic</td>\n",
       "      <td>637</td>\n",
       "      <td>145</td>\n",
       "      <td>24.8</td>\n",
       "      <td>4.0</td>\n",
       "    </tr>\n",
       "    <tr>\n",
       "      <th>6223</th>\n",
       "      <td>2019</td>\n",
       "      <td>124999</td>\n",
       "      <td>Automatic</td>\n",
       "      <td>1500</td>\n",
       "      <td>145</td>\n",
       "      <td>31.7</td>\n",
       "      <td>4.0</td>\n",
       "    </tr>\n",
       "    <tr>\n",
       "      <th>4094</th>\n",
       "      <td>2019</td>\n",
       "      <td>124366</td>\n",
       "      <td>Semi-Auto</td>\n",
       "      <td>880</td>\n",
       "      <td>145</td>\n",
       "      <td>24.8</td>\n",
       "      <td>4.0</td>\n",
       "    </tr>\n",
       "    <tr>\n",
       "      <th>2629</th>\n",
       "      <td>2019</td>\n",
       "      <td>123846</td>\n",
       "      <td>Semi-Auto</td>\n",
       "      <td>2951</td>\n",
       "      <td>145</td>\n",
       "      <td>22.1</td>\n",
       "      <td>4.0</td>\n",
       "    </tr>\n",
       "    <tr>\n",
       "      <th>7134</th>\n",
       "      <td>2019</td>\n",
       "      <td>115359</td>\n",
       "      <td>Semi-Auto</td>\n",
       "      <td>1000</td>\n",
       "      <td>145</td>\n",
       "      <td>30.1</td>\n",
       "      <td>4.0</td>\n",
       "    </tr>\n",
       "    <tr>\n",
       "      <th>9159</th>\n",
       "      <td>2019</td>\n",
       "      <td>114199</td>\n",
       "      <td>Semi-Auto</td>\n",
       "      <td>891</td>\n",
       "      <td>145</td>\n",
       "      <td>22.6</td>\n",
       "      <td>4.0</td>\n",
       "    </tr>\n",
       "    <tr>\n",
       "      <th>1980</th>\n",
       "      <td>2019</td>\n",
       "      <td>109995</td>\n",
       "      <td>Semi-Auto</td>\n",
       "      <td>4688</td>\n",
       "      <td>150</td>\n",
       "      <td>31.7</td>\n",
       "      <td>4.0</td>\n",
       "    </tr>\n",
       "    <tr>\n",
       "      <th>8745</th>\n",
       "      <td>2018</td>\n",
       "      <td>109989</td>\n",
       "      <td>Semi-Auto</td>\n",
       "      <td>2122</td>\n",
       "      <td>145</td>\n",
       "      <td>24.8</td>\n",
       "      <td>4.0</td>\n",
       "    </tr>\n",
       "    <tr>\n",
       "      <th>13060</th>\n",
       "      <td>2017</td>\n",
       "      <td>109495</td>\n",
       "      <td>Automatic</td>\n",
       "      <td>1755</td>\n",
       "      <td>145</td>\n",
       "      <td>24.8</td>\n",
       "      <td>4.0</td>\n",
       "    </tr>\n",
       "    <tr>\n",
       "      <th>7828</th>\n",
       "      <td>2019</td>\n",
       "      <td>109445</td>\n",
       "      <td>Automatic</td>\n",
       "      <td>195</td>\n",
       "      <td>145</td>\n",
       "      <td>22.6</td>\n",
       "      <td>4.0</td>\n",
       "    </tr>\n",
       "    <tr>\n",
       "      <th>5311</th>\n",
       "      <td>2019</td>\n",
       "      <td>105000</td>\n",
       "      <td>Semi-Auto</td>\n",
       "      <td>6807</td>\n",
       "      <td>150</td>\n",
       "      <td>22.6</td>\n",
       "      <td>4.0</td>\n",
       "    </tr>\n",
       "    <tr>\n",
       "      <th>1011</th>\n",
       "      <td>2019</td>\n",
       "      <td>104999</td>\n",
       "      <td>Semi-Auto</td>\n",
       "      <td>5822</td>\n",
       "      <td>150</td>\n",
       "      <td>22.6</td>\n",
       "      <td>4.0</td>\n",
       "    </tr>\n",
       "  </tbody>\n",
       "</table>\n",
       "</div>"
      ],
      "text/plain": [
       "       year   price transmission  mileage  tax   mpg  engineSize\n",
       "6199   2020  159999    Semi-Auto     1350  145  21.4         4.0\n",
       "10044  2020  154998    Automatic     3000  150  21.4         4.0\n",
       "5      2011  149948    Automatic     3000  570  21.4         6.2\n",
       "8737   2019  140319    Semi-Auto      785  150  22.1         4.0\n",
       "6386   2018  139995    Semi-Auto    13046  145  21.4         4.0\n",
       "8      2019  139948    Automatic    12000  145  21.4         4.0\n",
       "9133   2019  139559    Semi-Auto     1000  145  22.1         4.0\n",
       "8821   2020  138439    Semi-Auto     1000  145  22.1         4.0\n",
       "5902   2018  135771    Semi-Auto    19000  145  21.4         4.0\n",
       "7864   2018  135124    Semi-Auto    18234  150  21.4         4.0\n",
       "8673   2019  134219    Semi-Auto     1000  145  24.8         4.0\n",
       "6210   2019  129990    Automatic     1000  145  24.8         4.0\n",
       "4759   2019  126000    Automatic      250  145  24.6         4.0\n",
       "2647   2019  125796    Automatic      637  145  24.8         4.0\n",
       "6223   2019  124999    Automatic     1500  145  31.7         4.0\n",
       "4094   2019  124366    Semi-Auto      880  145  24.8         4.0\n",
       "2629   2019  123846    Semi-Auto     2951  145  22.1         4.0\n",
       "7134   2019  115359    Semi-Auto     1000  145  30.1         4.0\n",
       "9159   2019  114199    Semi-Auto      891  145  22.6         4.0\n",
       "1980   2019  109995    Semi-Auto     4688  150  31.7         4.0\n",
       "8745   2018  109989    Semi-Auto     2122  145  24.8         4.0\n",
       "13060  2017  109495    Automatic     1755  145  24.8         4.0\n",
       "7828   2019  109445    Automatic      195  145  22.6         4.0\n",
       "5311   2019  105000    Semi-Auto     6807  150  22.6         4.0\n",
       "1011   2019  104999    Semi-Auto     5822  150  22.6         4.0"
      ]
     },
     "execution_count": 22,
     "metadata": {},
     "output_type": "execute_result"
    }
   ],
   "source": [
    "df.sort_values('price', ascending=False).head(25)"
   ]
  },
  {
   "cell_type": "code",
   "execution_count": 23,
   "id": "4928ade1",
   "metadata": {},
   "outputs": [],
   "source": [
    "# yuksek fiyatlari arabalari sayisi hem az hemde grafigimizi bozmaktadir\n",
    "# bimiz verisetimizda %1 cikarsak herhangi bi sikinti olmaz"
   ]
  },
  {
   "cell_type": "code",
   "execution_count": 24,
   "id": "9a333784",
   "metadata": {},
   "outputs": [
    {
     "data": {
      "text/plain": [
       "13119"
      ]
     },
     "execution_count": 24,
     "metadata": {},
     "output_type": "execute_result"
    }
   ],
   "source": [
    "len(df)"
   ]
  },
  {
   "cell_type": "code",
   "execution_count": 26,
   "id": "fc8454ae",
   "metadata": {},
   "outputs": [
    {
     "data": {
      "text/plain": [
       "131.19"
      ]
     },
     "execution_count": 26,
     "metadata": {},
     "output_type": "execute_result"
    }
   ],
   "source": [
    "len(df)*0.01"
   ]
  },
  {
   "cell_type": "code",
   "execution_count": 29,
   "id": "00e88e03",
   "metadata": {},
   "outputs": [],
   "source": [
    "newdf = df.sort_values('price', ascending=False).iloc[131:]"
   ]
  },
  {
   "cell_type": "code",
   "execution_count": 30,
   "id": "a8726ff1",
   "metadata": {},
   "outputs": [
    {
     "data": {
      "text/html": [
       "<div>\n",
       "<style scoped>\n",
       "    .dataframe tbody tr th:only-of-type {\n",
       "        vertical-align: middle;\n",
       "    }\n",
       "\n",
       "    .dataframe tbody tr th {\n",
       "        vertical-align: top;\n",
       "    }\n",
       "\n",
       "    .dataframe thead th {\n",
       "        text-align: right;\n",
       "    }\n",
       "</style>\n",
       "<table border=\"1\" class=\"dataframe\">\n",
       "  <thead>\n",
       "    <tr style=\"text-align: right;\">\n",
       "      <th></th>\n",
       "      <th>year</th>\n",
       "      <th>price</th>\n",
       "      <th>mileage</th>\n",
       "      <th>tax</th>\n",
       "      <th>mpg</th>\n",
       "      <th>engineSize</th>\n",
       "    </tr>\n",
       "  </thead>\n",
       "  <tbody>\n",
       "    <tr>\n",
       "      <th>count</th>\n",
       "      <td>12988.000000</td>\n",
       "      <td>12988.000000</td>\n",
       "      <td>12988.000000</td>\n",
       "      <td>12988.000000</td>\n",
       "      <td>12988.000000</td>\n",
       "      <td>12988.000000</td>\n",
       "    </tr>\n",
       "    <tr>\n",
       "      <th>mean</th>\n",
       "      <td>2017.281876</td>\n",
       "      <td>24074.926933</td>\n",
       "      <td>22132.741146</td>\n",
       "      <td>129.689714</td>\n",
       "      <td>55.437142</td>\n",
       "      <td>2.050901</td>\n",
       "    </tr>\n",
       "    <tr>\n",
       "      <th>std</th>\n",
       "      <td>2.228515</td>\n",
       "      <td>9866.224575</td>\n",
       "      <td>21196.776401</td>\n",
       "      <td>65.183076</td>\n",
       "      <td>15.025999</td>\n",
       "      <td>0.532596</td>\n",
       "    </tr>\n",
       "    <tr>\n",
       "      <th>min</th>\n",
       "      <td>1970.000000</td>\n",
       "      <td>650.000000</td>\n",
       "      <td>1.000000</td>\n",
       "      <td>0.000000</td>\n",
       "      <td>1.100000</td>\n",
       "      <td>0.000000</td>\n",
       "    </tr>\n",
       "    <tr>\n",
       "      <th>25%</th>\n",
       "      <td>2016.000000</td>\n",
       "      <td>17357.500000</td>\n",
       "      <td>6322.000000</td>\n",
       "      <td>125.000000</td>\n",
       "      <td>45.600000</td>\n",
       "      <td>1.675000</td>\n",
       "    </tr>\n",
       "    <tr>\n",
       "      <th>50%</th>\n",
       "      <td>2018.000000</td>\n",
       "      <td>22299.000000</td>\n",
       "      <td>15369.500000</td>\n",
       "      <td>145.000000</td>\n",
       "      <td>56.500000</td>\n",
       "      <td>2.000000</td>\n",
       "    </tr>\n",
       "    <tr>\n",
       "      <th>75%</th>\n",
       "      <td>2019.000000</td>\n",
       "      <td>28706.000000</td>\n",
       "      <td>31982.250000</td>\n",
       "      <td>145.000000</td>\n",
       "      <td>64.200000</td>\n",
       "      <td>2.100000</td>\n",
       "    </tr>\n",
       "    <tr>\n",
       "      <th>max</th>\n",
       "      <td>2020.000000</td>\n",
       "      <td>65990.000000</td>\n",
       "      <td>259000.000000</td>\n",
       "      <td>580.000000</td>\n",
       "      <td>217.300000</td>\n",
       "      <td>6.200000</td>\n",
       "    </tr>\n",
       "  </tbody>\n",
       "</table>\n",
       "</div>"
      ],
      "text/plain": [
       "               year         price        mileage           tax           mpg  \\\n",
       "count  12988.000000  12988.000000   12988.000000  12988.000000  12988.000000   \n",
       "mean    2017.281876  24074.926933   22132.741146    129.689714     55.437142   \n",
       "std        2.228515   9866.224575   21196.776401     65.183076     15.025999   \n",
       "min     1970.000000    650.000000       1.000000      0.000000      1.100000   \n",
       "25%     2016.000000  17357.500000    6322.000000    125.000000     45.600000   \n",
       "50%     2018.000000  22299.000000   15369.500000    145.000000     56.500000   \n",
       "75%     2019.000000  28706.000000   31982.250000    145.000000     64.200000   \n",
       "max     2020.000000  65990.000000  259000.000000    580.000000    217.300000   \n",
       "\n",
       "         engineSize  \n",
       "count  12988.000000  \n",
       "mean       2.050901  \n",
       "std        0.532596  \n",
       "min        0.000000  \n",
       "25%        1.675000  \n",
       "50%        2.000000  \n",
       "75%        2.100000  \n",
       "max        6.200000  "
      ]
     },
     "execution_count": 30,
     "metadata": {},
     "output_type": "execute_result"
    }
   ],
   "source": [
    "newdf.describe()"
   ]
  },
  {
   "cell_type": "code",
   "execution_count": 34,
   "id": "b48793e7",
   "metadata": {},
   "outputs": [
    {
     "data": {
      "text/plain": [
       "<seaborn.axisgrid.FacetGrid at 0x1eb95fc1fd0>"
      ]
     },
     "execution_count": 34,
     "metadata": {},
     "output_type": "execute_result"
    },
    {
     "data": {
      "image/png": "[encoded data removed]",
      "text/plain": [
       "<Figure size 360x360 with 1 Axes>"
      ]
     },
     "metadata": {
      "needs_background": "light"
     },
     "output_type": "display_data"
    }
   ],
   "source": [
    "sbn.displot(newdf['price']) # daha duzgun bi grafige sahibiz"
   ]
  },
  {
   "cell_type": "code",
   "execution_count": 35,
   "id": "874866a6",
   "metadata": {},
   "outputs": [
    {
     "data": {
      "text/plain": [
       "year\n",
       "1970    24999.000000\n",
       "1997     9995.000000\n",
       "1998     8605.000000\n",
       "1999     5995.000000\n",
       "2000     5743.333333\n",
       "2001     4957.900000\n",
       "2002     5820.444444\n",
       "2003     4878.000000\n",
       "2004     4727.615385\n",
       "2005     4426.111111\n",
       "2006     4036.875000\n",
       "2007     5136.045455\n",
       "2008     6967.437500\n",
       "2009     6166.764706\n",
       "2010     8308.473684\n",
       "2011     8913.459459\n",
       "2012    10845.140351\n",
       "2013    11939.842466\n",
       "2014    14042.936864\n",
       "2015    16647.822222\n",
       "2016    19223.558943\n",
       "2017    21356.280421\n",
       "2018    24800.844506\n",
       "2019    30289.524832\n",
       "2020    34234.794872\n",
       "Name: price, dtype: float64"
      ]
     },
     "execution_count": 35,
     "metadata": {},
     "output_type": "execute_result"
    }
   ],
   "source": [
    "newdf.groupby('year').mean()['price']"
   ]
  },
  {
   "cell_type": "code",
   "execution_count": 38,
   "id": "d2fc3756",
   "metadata": {},
   "outputs": [
    {
     "data": {
      "text/plain": [
       "'1970 verileri cikarttim nedeni ise\\nyasina gore asiri pahali (cikartilmayabilir cok onemli degil)'"
      ]
     },
     "execution_count": 38,
     "metadata": {},
     "output_type": "execute_result"
    }
   ],
   "source": [
    "newdf =newdf[newdf.year != 1970] \n",
    "'''1970 verileri cikarttim nedeni ise\n",
    "yasina gore asiri pahali (cikartilmayabilir cok onemli degil)'''"
   ]
  },
  {
   "cell_type": "code",
   "execution_count": 39,
   "id": "4c0d268c",
   "metadata": {},
   "outputs": [
    {
     "data": {
      "text/plain": [
       "year\n",
       "1997     9995.000000\n",
       "1998     8605.000000\n",
       "1999     5995.000000\n",
       "2000     5743.333333\n",
       "2001     4957.900000\n",
       "2002     5820.444444\n",
       "2003     4878.000000\n",
       "2004     4727.615385\n",
       "2005     4426.111111\n",
       "2006     4036.875000\n",
       "2007     5136.045455\n",
       "2008     6967.437500\n",
       "2009     6166.764706\n",
       "2010     8308.473684\n",
       "2011     8913.459459\n",
       "2012    10845.140351\n",
       "2013    11939.842466\n",
       "2014    14042.936864\n",
       "2015    16647.822222\n",
       "2016    19223.558943\n",
       "2017    21356.280421\n",
       "2018    24800.844506\n",
       "2019    30289.524832\n",
       "2020    34234.794872\n",
       "Name: price, dtype: float64"
      ]
     },
     "execution_count": 39,
     "metadata": {},
     "output_type": "execute_result"
    }
   ],
   "source": [
    "newdf.groupby('year').mean()['price']"
   ]
  },
  {
   "cell_type": "code",
   "execution_count": 40,
   "id": "66b9f0e2",
   "metadata": {},
   "outputs": [],
   "source": [
    "# trassminsin numeric deger degildir bunu cikartabiliriz\n",
    "newdf = newdf.drop('transmission', axis=1)"
   ]
  },
  {
   "cell_type": "code",
   "execution_count": 41,
   "id": "f4cea41b",
   "metadata": {},
   "outputs": [],
   "source": [
    "y= newdf['price'].values"
   ]
  },
  {
   "cell_type": "code",
   "execution_count": 42,
   "id": "4ddfae99",
   "metadata": {},
   "outputs": [
    {
     "data": {
      "text/plain": [
       "array([65990, 65990, 65980, ...,  1490,  1350,   650], dtype=int64)"
      ]
     },
     "execution_count": 42,
     "metadata": {},
     "output_type": "execute_result"
    }
   ],
   "source": [
    "y"
   ]
  },
  {
   "cell_type": "code",
   "execution_count": 43,
   "id": "124437f7",
   "metadata": {},
   "outputs": [],
   "source": [
    "x = newdf.drop('price', axis= 1).values"
   ]
  },
  {
   "cell_type": "code",
   "execution_count": 44,
   "id": "5664b3d9",
   "metadata": {},
   "outputs": [
    {
     "data": {
      "text/plain": [
       "array([[2.01900e+03, 5.07600e+03, 1.50000e+02, 3.04000e+01, 3.00000e+00],\n",
       "       [2.02000e+03, 9.99000e+02, 1.45000e+02, 2.80000e+01, 4.00000e+00],\n",
       "       [2.02000e+03, 3.99900e+03, 1.45000e+02, 2.80000e+01, 4.00000e+00],\n",
       "       ...,\n",
       "       [2.00000e+03, 8.70000e+04, 2.65000e+02, 2.72000e+01, 3.20000e+00],\n",
       "       [2.01000e+03, 1.16126e+05, 1.45000e+02, 5.43000e+01, 2.00000e+00],\n",
       "       [2.00300e+03, 1.09090e+05, 2.35000e+02, 4.00000e+01, 1.40000e+00]])"
      ]
     },
     "execution_count": 44,
     "metadata": {},
     "output_type": "execute_result"
    }
   ],
   "source": [
    "x"
   ]
  },
  {
   "cell_type": "code",
   "execution_count": 45,
   "id": "bf91d925",
   "metadata": {},
   "outputs": [],
   "source": [
    "from sklearn.model_selection import train_test_split"
   ]
  },
  {
   "cell_type": "code",
   "execution_count": 50,
   "id": "47549bb1",
   "metadata": {},
   "outputs": [],
   "source": [
    "x_train ,x_test, y_train, y_test = train_test_split(x,y,test_size=0.3, random_state=10)"
   ]
  },
  {
   "cell_type": "code",
   "execution_count": 51,
   "id": "d64f0370",
   "metadata": {},
   "outputs": [
    {
     "data": {
      "text/plain": [
       "3897"
      ]
     },
     "execution_count": 51,
     "metadata": {},
     "output_type": "execute_result"
    }
   ],
   "source": [
    "len(x_test)"
   ]
  },
  {
   "cell_type": "code",
   "execution_count": 52,
   "id": "652c0452",
   "metadata": {},
   "outputs": [
    {
     "data": {
      "text/plain": [
       "9090"
      ]
     },
     "execution_count": 52,
     "metadata": {},
     "output_type": "execute_result"
    }
   ],
   "source": [
    "len(x_train)"
   ]
  },
  {
   "cell_type": "code",
   "execution_count": 53,
   "id": "01c3da2b",
   "metadata": {},
   "outputs": [],
   "source": [
    "from sklearn.preprocessing import MinMaxScaler"
   ]
  },
  {
   "cell_type": "code",
   "execution_count": 54,
   "id": "f16bb292",
   "metadata": {},
   "outputs": [],
   "source": [
    "# butun degerlerimizi 0-1 arasinda sikistircaz ki modelimizi fazla yormasin"
   ]
  },
  {
   "cell_type": "code",
   "execution_count": 55,
   "id": "fc959a35",
   "metadata": {},
   "outputs": [],
   "source": [
    "scaler = MinMaxScaler()"
   ]
  },
  {
   "cell_type": "code",
   "execution_count": 56,
   "id": "bfd91e0f",
   "metadata": {},
   "outputs": [],
   "source": [
    "x_train = scaler.fit_transform(x_train)"
   ]
  },
  {
   "cell_type": "code",
   "execution_count": 57,
   "id": "18edf38d",
   "metadata": {},
   "outputs": [],
   "source": [
    "x_test = scaler.fit_transform(x_test)"
   ]
  },
  {
   "cell_type": "code",
   "execution_count": 58,
   "id": "6ae1bf13",
   "metadata": {},
   "outputs": [],
   "source": [
    "from tensorflow.keras.models import Sequential\n",
    "from tensorflow.keras.layers import Dense"
   ]
  },
  {
   "cell_type": "code",
   "execution_count": 59,
   "id": "5165d607",
   "metadata": {},
   "outputs": [
    {
     "data": {
      "text/plain": [
       "(9090, 5)"
      ]
     },
     "execution_count": 59,
     "metadata": {},
     "output_type": "execute_result"
    }
   ],
   "source": [
    "x_train.shape"
   ]
  },
  {
   "cell_type": "code",
   "execution_count": 61,
   "id": "85931b44",
   "metadata": {},
   "outputs": [],
   "source": [
    "model=Sequential()\n",
    "model.add(Dense(12,activation='relu'))\n",
    "model.add(Dense(12,activation='relu'))\n",
    "model.add(Dense(12,activation='relu'))\n",
    "model.add(Dense(12,activation='relu'))\n",
    "\n",
    "model.add(Dense(1))\n",
    "\n",
    "model.compile(optimizer='adam', loss='mse')"
   ]
  },
  {
   "cell_type": "code",
   "execution_count": 62,
   "id": "6bbc7371",
   "metadata": {},
   "outputs": [
    {
     "name": "stdout",
     "output_type": "stream",
     "text": [
      "Epoch 1/300\n",
      "91/91 [==============================] - 0s 2ms/step - loss: 672117824.0000 - val_loss: 688008640.0000\n",
      "Epoch 2/300\n",
      "91/91 [==============================] - 0s 1ms/step - loss: 671599616.0000 - val_loss: 686548544.0000\n",
      "Epoch 3/300\n",
      "91/91 [==============================] - 0s 1ms/step - loss: 667109312.0000 - val_loss: 676774464.0000\n",
      "Epoch 4/300\n",
      "91/91 [==============================] - 0s 992us/step - loss: 646634048.0000 - val_loss: 640208192.0000\n",
      "Epoch 5/300\n",
      "91/91 [==============================] - 0s 1ms/step - loss: 586426304.0000 - val_loss: 548283456.0000\n",
      "Epoch 6/300\n",
      "91/91 [==============================] - 0s 1ms/step - loss: 461937536.0000 - val_loss: 386766208.0000\n",
      "Epoch 7/300\n",
      "91/91 [==============================] - 0s 1ms/step - loss: 287082912.0000 - val_loss: 206825216.0000\n",
      "Epoch 8/300\n",
      "91/91 [==============================] - 0s 1ms/step - loss: 144298672.0000 - val_loss: 110048928.0000\n",
      "Epoch 9/300\n",
      "91/91 [==============================] - 0s 960us/step - loss: 93817272.0000 - val_loss: 92320560.0000\n",
      "Epoch 10/300\n",
      "91/91 [==============================] - 0s 999us/step - loss: 87257888.0000 - val_loss: 90075608.0000\n",
      "Epoch 11/300\n",
      "91/91 [==============================] - 0s 1ms/step - loss: 85972024.0000 - val_loss: 88695896.0000\n",
      "Epoch 12/300\n",
      "91/91 [==============================] - 0s 1ms/step - loss: 84975000.0000 - val_loss: 87437440.0000\n",
      "Epoch 13/300\n",
      "91/91 [==============================] - 0s 1ms/step - loss: 84037368.0000 - val_loss: 86284168.0000\n",
      "Epoch 14/300\n",
      "91/91 [==============================] - 0s 1ms/step - loss: 83148952.0000 - val_loss: 85139016.0000\n",
      "Epoch 15/300\n",
      "91/91 [==============================] - 0s 1ms/step - loss: 82286296.0000 - val_loss: 84045088.0000\n",
      "Epoch 16/300\n",
      "91/91 [==============================] - 0s 988us/step - loss: 81361488.0000 - val_loss: 82848008.0000\n",
      "Epoch 17/300\n",
      "91/91 [==============================] - 0s 1ms/step - loss: 80204928.0000 - val_loss: 81431984.0000\n",
      "Epoch 18/300\n",
      "91/91 [==============================] - 0s 1ms/step - loss: 78977984.0000 - val_loss: 79943912.0000\n",
      "Epoch 19/300\n",
      "91/91 [==============================] - 0s 1ms/step - loss: 77660504.0000 - val_loss: 78456352.0000\n",
      "Epoch 20/300\n",
      "91/91 [==============================] - 0s 1ms/step - loss: 76361448.0000 - val_loss: 76994144.0000\n",
      "Epoch 21/300\n",
      "91/91 [==============================] - 0s 1ms/step - loss: 75020160.0000 - val_loss: 75161112.0000\n",
      "Epoch 22/300\n",
      "91/91 [==============================] - 0s 1ms/step - loss: 73637096.0000 - val_loss: 73636768.0000\n",
      "Epoch 23/300\n",
      "91/91 [==============================] - 0s 1ms/step - loss: 72233848.0000 - val_loss: 71940048.0000\n",
      "Epoch 24/300\n",
      "91/91 [==============================] - 0s 1ms/step - loss: 70847624.0000 - val_loss: 70416552.0000\n",
      "Epoch 25/300\n",
      "91/91 [==============================] - 0s 1ms/step - loss: 69423304.0000 - val_loss: 68691760.0000\n",
      "Epoch 26/300\n",
      "91/91 [==============================] - 0s 994us/step - loss: 67996192.0000 - val_loss: 67202136.0000\n",
      "Epoch 27/300\n",
      "91/91 [==============================] - 0s 1ms/step - loss: 66529884.0000 - val_loss: 65514864.0000\n",
      "Epoch 28/300\n",
      "91/91 [==============================] - 0s 1ms/step - loss: 65057344.0000 - val_loss: 63727764.0000\n",
      "Epoch 29/300\n",
      "91/91 [==============================] - 0s 986us/step - loss: 63556012.0000 - val_loss: 61916184.0000\n",
      "Epoch 30/300\n",
      "91/91 [==============================] - 0s 1ms/step - loss: 62046184.0000 - val_loss: 60626540.0000\n",
      "Epoch 31/300\n",
      "91/91 [==============================] - 0s 1ms/step - loss: 60548892.0000 - val_loss: 58894912.0000\n",
      "Epoch 32/300\n",
      "91/91 [==============================] - 0s 987us/step - loss: 59018152.0000 - val_loss: 57195248.0000\n",
      "Epoch 33/300\n",
      "91/91 [==============================] - 0s 1ms/step - loss: 57457456.0000 - val_loss: 55410440.0000\n",
      "Epoch 34/300\n",
      "91/91 [==============================] - 0s 1ms/step - loss: 55892936.0000 - val_loss: 53547552.0000\n",
      "Epoch 35/300\n",
      "91/91 [==============================] - 0s 1ms/step - loss: 54368024.0000 - val_loss: 51937296.0000\n",
      "Epoch 36/300\n",
      "91/91 [==============================] - 0s 968us/step - loss: 52810816.0000 - val_loss: 50277308.0000\n",
      "Epoch 37/300\n",
      "91/91 [==============================] - 0s 1ms/step - loss: 51229480.0000 - val_loss: 49153732.0000\n",
      "Epoch 38/300\n",
      "91/91 [==============================] - 0s 1ms/step - loss: 49686744.0000 - val_loss: 47440212.0000\n",
      "Epoch 39/300\n",
      "91/91 [==============================] - 0s 1ms/step - loss: 48117860.0000 - val_loss: 45539060.0000\n",
      "Epoch 40/300\n",
      "91/91 [==============================] - 0s 1ms/step - loss: 46583100.0000 - val_loss: 44187092.0000\n",
      "Epoch 41/300\n",
      "91/91 [==============================] - 0s 1ms/step - loss: 45082400.0000 - val_loss: 42937852.0000\n",
      "Epoch 42/300\n",
      "91/91 [==============================] - 0s 1ms/step - loss: 43644112.0000 - val_loss: 41956696.0000\n",
      "Epoch 43/300\n",
      "91/91 [==============================] - 0s 1ms/step - loss: 42291836.0000 - val_loss: 40695048.0000\n",
      "Epoch 44/300\n",
      "91/91 [==============================] - 0s 957us/step - loss: 40970516.0000 - val_loss: 39803300.0000\n",
      "Epoch 45/300\n",
      "91/91 [==============================] - 0s 994us/step - loss: 39798724.0000 - val_loss: 39053376.0000\n",
      "Epoch 46/300\n",
      "91/91 [==============================] - 0s 1ms/step - loss: 38596444.0000 - val_loss: 37512336.0000\n",
      "Epoch 47/300\n",
      "91/91 [==============================] - 0s 998us/step - loss: 37546964.0000 - val_loss: 37497416.0000\n",
      "Epoch 48/300\n",
      "91/91 [==============================] - 0s 991us/step - loss: 36547796.0000 - val_loss: 37371140.0000\n",
      "Epoch 49/300\n",
      "91/91 [==============================] - 0s 1ms/step - loss: 35615300.0000 - val_loss: 36134456.0000\n",
      "Epoch 50/300\n",
      "91/91 [==============================] - 0s 1ms/step - loss: 34719684.0000 - val_loss: 35285220.0000\n",
      "Epoch 51/300\n",
      "91/91 [==============================] - 0s 991us/step - loss: 33869744.0000 - val_loss: 35343320.0000\n",
      "Epoch 52/300\n",
      "91/91 [==============================] - 0s 958us/step - loss: 33088250.0000 - val_loss: 34476956.0000\n",
      "Epoch 53/300\n",
      "91/91 [==============================] - 0s 1ms/step - loss: 32332964.0000 - val_loss: 33758136.0000\n",
      "Epoch 54/300\n",
      "91/91 [==============================] - 0s 978us/step - loss: 31563688.0000 - val_loss: 32932606.0000\n",
      "Epoch 55/300\n",
      "91/91 [==============================] - 0s 1ms/step - loss: 30831094.0000 - val_loss: 32370026.0000\n",
      "Epoch 56/300\n",
      "91/91 [==============================] - 0s 1ms/step - loss: 30119496.0000 - val_loss: 32482018.0000\n",
      "Epoch 57/300\n",
      "91/91 [==============================] - 0s 1ms/step - loss: 29442566.0000 - val_loss: 32061242.0000\n",
      "Epoch 58/300\n",
      "91/91 [==============================] - 0s 1ms/step - loss: 28739886.0000 - val_loss: 30308618.0000\n",
      "Epoch 59/300\n",
      "91/91 [==============================] - 0s 1ms/step - loss: 28146550.0000 - val_loss: 29940388.0000\n",
      "Epoch 60/300\n",
      "91/91 [==============================] - 0s 1ms/step - loss: 27519310.0000 - val_loss: 30079734.0000\n",
      "Epoch 61/300\n",
      "91/91 [==============================] - 0s 1ms/step - loss: 26959460.0000 - val_loss: 29468720.0000\n",
      "Epoch 62/300\n",
      "91/91 [==============================] - 0s 1ms/step - loss: 26471712.0000 - val_loss: 28975476.0000\n",
      "Epoch 63/300\n",
      "91/91 [==============================] - 0s 1ms/step - loss: 25947426.0000 - val_loss: 28211460.0000\n",
      "Epoch 64/300\n",
      "91/91 [==============================] - 0s 1ms/step - loss: 25522194.0000 - val_loss: 28441192.0000\n",
      "Epoch 65/300\n",
      "91/91 [==============================] - 0s 1ms/step - loss: 25133722.0000 - val_loss: 28336702.0000\n",
      "Epoch 66/300\n",
      "91/91 [==============================] - 0s 1ms/step - loss: 24778306.0000 - val_loss: 28020354.0000\n",
      "Epoch 67/300\n",
      "91/91 [==============================] - 0s 1ms/step - loss: 24453658.0000 - val_loss: 28191444.0000\n",
      "Epoch 68/300\n",
      "91/91 [==============================] - 0s 1ms/step - loss: 24238164.0000 - val_loss: 28268552.0000\n",
      "Epoch 69/300\n",
      "91/91 [==============================] - 0s 1ms/step - loss: 24017272.0000 - val_loss: 28481522.0000\n",
      "Epoch 70/300\n",
      "91/91 [==============================] - 0s 963us/step - loss: 23813806.0000 - val_loss: 28080292.0000\n",
      "Epoch 71/300\n",
      "91/91 [==============================] - 0s 988us/step - loss: 23669580.0000 - val_loss: 27587952.0000\n",
      "Epoch 72/300\n"
     ]
    },
    {
     "name": "stdout",
     "output_type": "stream",
     "text": [
      "91/91 [==============================] - 0s 1ms/step - loss: 23499522.0000 - val_loss: 28065976.0000\n",
      "Epoch 73/300\n",
      "91/91 [==============================] - 0s 1ms/step - loss: 23375392.0000 - val_loss: 28155338.0000\n",
      "Epoch 74/300\n",
      "91/91 [==============================] - 0s 963us/step - loss: 23225014.0000 - val_loss: 28556484.0000\n",
      "Epoch 75/300\n",
      "91/91 [==============================] - 0s 1ms/step - loss: 23103808.0000 - val_loss: 28048290.0000\n",
      "Epoch 76/300\n",
      "91/91 [==============================] - 0s 927us/step - loss: 23010626.0000 - val_loss: 27567892.0000\n",
      "Epoch 77/300\n",
      "91/91 [==============================] - 0s 1ms/step - loss: 22899594.0000 - val_loss: 27563912.0000\n",
      "Epoch 78/300\n",
      "91/91 [==============================] - 0s 1ms/step - loss: 22796630.0000 - val_loss: 27222814.0000\n",
      "Epoch 79/300\n",
      "91/91 [==============================] - 0s 1ms/step - loss: 22771124.0000 - val_loss: 27313876.0000\n",
      "Epoch 80/300\n",
      "91/91 [==============================] - 0s 1ms/step - loss: 22631794.0000 - val_loss: 27752860.0000\n",
      "Epoch 81/300\n",
      "91/91 [==============================] - 0s 1ms/step - loss: 22537862.0000 - val_loss: 27367510.0000\n",
      "Epoch 82/300\n",
      "91/91 [==============================] - 0s 1ms/step - loss: 22511570.0000 - val_loss: 27763084.0000\n",
      "Epoch 83/300\n",
      "91/91 [==============================] - 0s 1ms/step - loss: 22453560.0000 - val_loss: 27014164.0000\n",
      "Epoch 84/300\n",
      "91/91 [==============================] - 0s 1ms/step - loss: 22347880.0000 - val_loss: 26895956.0000\n",
      "Epoch 85/300\n",
      "91/91 [==============================] - 0s 951us/step - loss: 22308216.0000 - val_loss: 26711180.0000\n",
      "Epoch 86/300\n",
      "91/91 [==============================] - 0s 1ms/step - loss: 22229138.0000 - val_loss: 28114186.0000\n",
      "Epoch 87/300\n",
      "91/91 [==============================] - 0s 1ms/step - loss: 22243022.0000 - val_loss: 27056600.0000\n",
      "Epoch 88/300\n",
      "91/91 [==============================] - 0s 1ms/step - loss: 22139342.0000 - val_loss: 26248706.0000\n",
      "Epoch 89/300\n",
      "91/91 [==============================] - 0s 1ms/step - loss: 22032216.0000 - val_loss: 26873296.0000\n",
      "Epoch 90/300\n",
      "91/91 [==============================] - 0s 974us/step - loss: 21987440.0000 - val_loss: 27399198.0000\n",
      "Epoch 91/300\n",
      "91/91 [==============================] - 0s 1ms/step - loss: 21986642.0000 - val_loss: 26831494.0000\n",
      "Epoch 92/300\n",
      "91/91 [==============================] - 0s 1ms/step - loss: 21870400.0000 - val_loss: 27565294.0000\n",
      "Epoch 93/300\n",
      "91/91 [==============================] - 0s 1ms/step - loss: 21827298.0000 - val_loss: 26475818.0000\n",
      "Epoch 94/300\n",
      "91/91 [==============================] - 0s 1ms/step - loss: 21783714.0000 - val_loss: 26574886.0000\n",
      "Epoch 95/300\n",
      "91/91 [==============================] - 0s 1ms/step - loss: 21683464.0000 - val_loss: 26180958.0000\n",
      "Epoch 96/300\n",
      "91/91 [==============================] - 0s 1ms/step - loss: 21624694.0000 - val_loss: 26269896.0000\n",
      "Epoch 97/300\n",
      "91/91 [==============================] - 0s 1ms/step - loss: 21585934.0000 - val_loss: 26059124.0000\n",
      "Epoch 98/300\n",
      "91/91 [==============================] - 0s 1ms/step - loss: 21509994.0000 - val_loss: 26333008.0000\n",
      "Epoch 99/300\n",
      "91/91 [==============================] - 0s 1ms/step - loss: 21462738.0000 - val_loss: 26451534.0000\n",
      "Epoch 100/300\n",
      "91/91 [==============================] - 0s 1ms/step - loss: 21411814.0000 - val_loss: 25771560.0000\n",
      "Epoch 101/300\n",
      "91/91 [==============================] - 0s 1ms/step - loss: 21416900.0000 - val_loss: 25247770.0000\n",
      "Epoch 102/300\n",
      "91/91 [==============================] - 0s 1ms/step - loss: 21327254.0000 - val_loss: 25397558.0000\n",
      "Epoch 103/300\n",
      "91/91 [==============================] - 0s 972us/step - loss: 21295302.0000 - val_loss: 25608712.0000\n",
      "Epoch 104/300\n",
      "91/91 [==============================] - 0s 990us/step - loss: 21270622.0000 - val_loss: 25511736.0000\n",
      "Epoch 105/300\n",
      "91/91 [==============================] - 0s 970us/step - loss: 21195396.0000 - val_loss: 25839762.0000\n",
      "Epoch 106/300\n",
      "91/91 [==============================] - 0s 966us/step - loss: 21152528.0000 - val_loss: 24556350.0000\n",
      "Epoch 107/300\n",
      "91/91 [==============================] - 0s 1ms/step - loss: 21156454.0000 - val_loss: 26100600.0000\n",
      "Epoch 108/300\n",
      "91/91 [==============================] - 0s 1ms/step - loss: 21091126.0000 - val_loss: 25057100.0000\n",
      "Epoch 109/300\n",
      "91/91 [==============================] - 0s 1ms/step - loss: 21067670.0000 - val_loss: 25688822.0000\n",
      "Epoch 110/300\n",
      "91/91 [==============================] - 0s 980us/step - loss: 21033544.0000 - val_loss: 24641580.0000\n",
      "Epoch 111/300\n",
      "91/91 [==============================] - 0s 1ms/step - loss: 20973720.0000 - val_loss: 24591002.0000\n",
      "Epoch 112/300\n",
      "91/91 [==============================] - 0s 1ms/step - loss: 20996746.0000 - val_loss: 24614862.0000\n",
      "Epoch 113/300\n",
      "91/91 [==============================] - 0s 1ms/step - loss: 20959588.0000 - val_loss: 25051548.0000\n",
      "Epoch 114/300\n",
      "91/91 [==============================] - 0s 1ms/step - loss: 20880220.0000 - val_loss: 25534692.0000\n",
      "Epoch 115/300\n",
      "91/91 [==============================] - 0s 1ms/step - loss: 20835524.0000 - val_loss: 25038678.0000\n",
      "Epoch 116/300\n",
      "91/91 [==============================] - 0s 1ms/step - loss: 20806572.0000 - val_loss: 25418834.0000\n",
      "Epoch 117/300\n",
      "91/91 [==============================] - 0s 1ms/step - loss: 20772642.0000 - val_loss: 25523368.0000\n",
      "Epoch 118/300\n",
      "91/91 [==============================] - 0s 954us/step - loss: 20764634.0000 - val_loss: 24765418.0000\n",
      "Epoch 119/300\n",
      "91/91 [==============================] - 0s 966us/step - loss: 20728478.0000 - val_loss: 25342002.0000\n",
      "Epoch 120/300\n",
      "91/91 [==============================] - 0s 967us/step - loss: 20710426.0000 - val_loss: 25681674.0000\n",
      "Epoch 121/300\n",
      "91/91 [==============================] - 0s 1ms/step - loss: 20685264.0000 - val_loss: 24992296.0000\n",
      "Epoch 122/300\n",
      "91/91 [==============================] - 0s 1ms/step - loss: 20660104.0000 - val_loss: 24735282.0000\n",
      "Epoch 123/300\n",
      "91/91 [==============================] - 0s 1ms/step - loss: 20611764.0000 - val_loss: 25104004.0000\n",
      "Epoch 124/300\n",
      "91/91 [==============================] - 0s 1ms/step - loss: 20625886.0000 - val_loss: 24361538.0000\n",
      "Epoch 125/300\n",
      "91/91 [==============================] - 0s 1ms/step - loss: 20581324.0000 - val_loss: 24026690.0000\n",
      "Epoch 126/300\n",
      "91/91 [==============================] - 0s 1ms/step - loss: 20535156.0000 - val_loss: 24864460.0000\n",
      "Epoch 127/300\n",
      "91/91 [==============================] - 0s 1ms/step - loss: 20541904.0000 - val_loss: 24892664.0000\n",
      "Epoch 128/300\n",
      "91/91 [==============================] - 0s 1ms/step - loss: 20461156.0000 - val_loss: 25233118.0000\n",
      "Epoch 129/300\n",
      "91/91 [==============================] - 0s 999us/step - loss: 20496686.0000 - val_loss: 24527184.0000\n",
      "Epoch 130/300\n",
      "91/91 [==============================] - 0s 999us/step - loss: 20435920.0000 - val_loss: 24493798.0000\n",
      "Epoch 131/300\n",
      "91/91 [==============================] - 0s 1ms/step - loss: 20441904.0000 - val_loss: 24473126.0000\n",
      "Epoch 132/300\n",
      "91/91 [==============================] - 0s 1ms/step - loss: 20363012.0000 - val_loss: 25064646.0000\n",
      "Epoch 133/300\n",
      "91/91 [==============================] - 0s 1ms/step - loss: 20342942.0000 - val_loss: 24749100.0000\n",
      "Epoch 134/300\n",
      "91/91 [==============================] - 0s 1ms/step - loss: 20337780.0000 - val_loss: 25118024.0000\n",
      "Epoch 135/300\n",
      "91/91 [==============================] - 0s 1ms/step - loss: 20297248.0000 - val_loss: 24860742.0000\n",
      "Epoch 136/300\n",
      "91/91 [==============================] - 0s 1ms/step - loss: 20272960.0000 - val_loss: 24240074.0000\n",
      "Epoch 137/300\n",
      "91/91 [==============================] - 0s 1ms/step - loss: 20223982.0000 - val_loss: 24142322.0000\n",
      "Epoch 138/300\n",
      "91/91 [==============================] - 0s 2ms/step - loss: 20200212.0000 - val_loss: 24071680.0000\n",
      "Epoch 139/300\n",
      "91/91 [==============================] - 0s 1ms/step - loss: 20195770.0000 - val_loss: 23757626.0000\n",
      "Epoch 140/300\n",
      "91/91 [==============================] - 0s 1ms/step - loss: 20175728.0000 - val_loss: 24323576.0000\n",
      "Epoch 141/300\n",
      "91/91 [==============================] - 0s 1ms/step - loss: 20098664.0000 - val_loss: 24000374.0000\n",
      "Epoch 142/300\n",
      "91/91 [==============================] - 0s 1ms/step - loss: 20082964.0000 - val_loss: 24464156.0000\n",
      "Epoch 143/300\n"
     ]
    },
    {
     "name": "stdout",
     "output_type": "stream",
     "text": [
      "91/91 [==============================] - 0s 1ms/step - loss: 20054900.0000 - val_loss: 24817608.0000\n",
      "Epoch 144/300\n",
      "91/91 [==============================] - 0s 997us/step - loss: 20020452.0000 - val_loss: 24025676.0000\n",
      "Epoch 145/300\n",
      "91/91 [==============================] - 0s 1ms/step - loss: 19999246.0000 - val_loss: 24607644.0000\n",
      "Epoch 146/300\n",
      "91/91 [==============================] - 0s 988us/step - loss: 19977604.0000 - val_loss: 24117694.0000\n",
      "Epoch 147/300\n",
      "91/91 [==============================] - 0s 1ms/step - loss: 19922406.0000 - val_loss: 23746270.0000\n",
      "Epoch 148/300\n",
      "91/91 [==============================] - 0s 967us/step - loss: 19892236.0000 - val_loss: 23486140.0000\n",
      "Epoch 149/300\n",
      "91/91 [==============================] - 0s 988us/step - loss: 19903032.0000 - val_loss: 23317460.0000\n",
      "Epoch 150/300\n",
      "91/91 [==============================] - 0s 1ms/step - loss: 19855558.0000 - val_loss: 23971602.0000\n",
      "Epoch 151/300\n",
      "91/91 [==============================] - 0s 1ms/step - loss: 19803238.0000 - val_loss: 24549608.0000\n",
      "Epoch 152/300\n",
      "91/91 [==============================] - 0s 967us/step - loss: 19789940.0000 - val_loss: 24605348.0000\n",
      "Epoch 153/300\n",
      "91/91 [==============================] - 0s 994us/step - loss: 19763372.0000 - val_loss: 23440712.0000\n",
      "Epoch 154/300\n",
      "91/91 [==============================] - 0s 979us/step - loss: 19762384.0000 - val_loss: 23703272.0000\n",
      "Epoch 155/300\n",
      "91/91 [==============================] - 0s 990us/step - loss: 19723256.0000 - val_loss: 23035336.0000\n",
      "Epoch 156/300\n",
      "91/91 [==============================] - 0s 960us/step - loss: 19660696.0000 - val_loss: 24004812.0000\n",
      "Epoch 157/300\n",
      "91/91 [==============================] - 0s 990us/step - loss: 19635710.0000 - val_loss: 23784198.0000\n",
      "Epoch 158/300\n",
      "91/91 [==============================] - 0s 1ms/step - loss: 19575504.0000 - val_loss: 22744212.0000\n",
      "Epoch 159/300\n",
      "91/91 [==============================] - 0s 1ms/step - loss: 19554478.0000 - val_loss: 23276062.0000\n",
      "Epoch 160/300\n",
      "91/91 [==============================] - 0s 977us/step - loss: 19511814.0000 - val_loss: 23143386.0000\n",
      "Epoch 161/300\n",
      "91/91 [==============================] - 0s 962us/step - loss: 19479872.0000 - val_loss: 23200456.0000\n",
      "Epoch 162/300\n",
      "91/91 [==============================] - 0s 949us/step - loss: 19448678.0000 - val_loss: 22851138.0000\n",
      "Epoch 163/300\n",
      "91/91 [==============================] - 0s 976us/step - loss: 19401584.0000 - val_loss: 23643046.0000\n",
      "Epoch 164/300\n",
      "91/91 [==============================] - 0s 1ms/step - loss: 19383196.0000 - val_loss: 23450574.0000\n",
      "Epoch 165/300\n",
      "91/91 [==============================] - 0s 964us/step - loss: 19324950.0000 - val_loss: 23187164.0000\n",
      "Epoch 166/300\n",
      "91/91 [==============================] - 0s 962us/step - loss: 19299266.0000 - val_loss: 23615842.0000\n",
      "Epoch 167/300\n",
      "91/91 [==============================] - 0s 914us/step - loss: 19266336.0000 - val_loss: 23414360.0000\n",
      "Epoch 168/300\n",
      "91/91 [==============================] - 0s 964us/step - loss: 19225322.0000 - val_loss: 23444558.0000\n",
      "Epoch 169/300\n",
      "91/91 [==============================] - 0s 1ms/step - loss: 19196748.0000 - val_loss: 23636556.0000\n",
      "Epoch 170/300\n",
      "91/91 [==============================] - 0s 920us/step - loss: 19198998.0000 - val_loss: 23723300.0000\n",
      "Epoch 171/300\n",
      "91/91 [==============================] - 0s 1ms/step - loss: 19154546.0000 - val_loss: 23222166.0000\n",
      "Epoch 172/300\n",
      "91/91 [==============================] - 0s 1ms/step - loss: 19122218.0000 - val_loss: 22321360.0000\n",
      "Epoch 173/300\n",
      "91/91 [==============================] - 0s 1ms/step - loss: 19123658.0000 - val_loss: 22583364.0000\n",
      "Epoch 174/300\n",
      "91/91 [==============================] - 0s 1ms/step - loss: 19100734.0000 - val_loss: 22836674.0000\n",
      "Epoch 175/300\n",
      "91/91 [==============================] - 0s 934us/step - loss: 19022852.0000 - val_loss: 23048846.0000\n",
      "Epoch 176/300\n",
      "91/91 [==============================] - 0s 956us/step - loss: 18985066.0000 - val_loss: 22846910.0000\n",
      "Epoch 177/300\n",
      "91/91 [==============================] - 0s 994us/step - loss: 19007744.0000 - val_loss: 22278994.0000\n",
      "Epoch 178/300\n",
      "91/91 [==============================] - 0s 930us/step - loss: 18989000.0000 - val_loss: 22994920.0000\n",
      "Epoch 179/300\n",
      "91/91 [==============================] - 0s 921us/step - loss: 18929556.0000 - val_loss: 22614136.0000\n",
      "Epoch 180/300\n",
      "91/91 [==============================] - 0s 1ms/step - loss: 18932628.0000 - val_loss: 22840764.0000\n",
      "Epoch 181/300\n",
      "91/91 [==============================] - 0s 1ms/step - loss: 18917842.0000 - val_loss: 22022154.0000\n",
      "Epoch 182/300\n",
      "91/91 [==============================] - 0s 999us/step - loss: 18880102.0000 - val_loss: 23314930.0000\n",
      "Epoch 183/300\n",
      "91/91 [==============================] - 0s 975us/step - loss: 18862474.0000 - val_loss: 22967284.0000\n",
      "Epoch 184/300\n",
      "91/91 [==============================] - 0s 1ms/step - loss: 18835362.0000 - val_loss: 22497472.0000\n",
      "Epoch 185/300\n",
      "91/91 [==============================] - 0s 936us/step - loss: 18802126.0000 - val_loss: 23163334.0000\n",
      "Epoch 186/300\n",
      "91/91 [==============================] - 0s 978us/step - loss: 18774544.0000 - val_loss: 22455166.0000\n",
      "Epoch 187/300\n",
      "91/91 [==============================] - 0s 928us/step - loss: 18782144.0000 - val_loss: 22738706.0000\n",
      "Epoch 188/300\n",
      "91/91 [==============================] - 0s 990us/step - loss: 18764444.0000 - val_loss: 23079834.0000\n",
      "Epoch 189/300\n",
      "91/91 [==============================] - 0s 1ms/step - loss: 18748934.0000 - val_loss: 22815472.0000\n",
      "Epoch 190/300\n",
      "91/91 [==============================] - 0s 906us/step - loss: 18716650.0000 - val_loss: 23205478.0000\n",
      "Epoch 191/300\n",
      "91/91 [==============================] - 0s 973us/step - loss: 18723254.0000 - val_loss: 22777194.0000\n",
      "Epoch 192/300\n",
      "91/91 [==============================] - 0s 984us/step - loss: 18702182.0000 - val_loss: 22402628.0000\n",
      "Epoch 193/300\n",
      "91/91 [==============================] - 0s 982us/step - loss: 18661766.0000 - val_loss: 23328660.0000\n",
      "Epoch 194/300\n",
      "91/91 [==============================] - 0s 926us/step - loss: 18679994.0000 - val_loss: 22459920.0000\n",
      "Epoch 195/300\n",
      "91/91 [==============================] - 0s 922us/step - loss: 18670084.0000 - val_loss: 22178414.0000\n",
      "Epoch 196/300\n",
      "91/91 [==============================] - 0s 938us/step - loss: 18685908.0000 - val_loss: 22634596.0000\n",
      "Epoch 197/300\n",
      "91/91 [==============================] - 0s 932us/step - loss: 18645922.0000 - val_loss: 22314530.0000\n",
      "Epoch 198/300\n",
      "91/91 [==============================] - 0s 924us/step - loss: 18606130.0000 - val_loss: 22335624.0000\n",
      "Epoch 199/300\n",
      "91/91 [==============================] - 0s 973us/step - loss: 18596554.0000 - val_loss: 22550856.0000\n",
      "Epoch 200/300\n",
      "91/91 [==============================] - 0s 965us/step - loss: 18580904.0000 - val_loss: 22331122.0000\n",
      "Epoch 201/300\n",
      "91/91 [==============================] - 0s 945us/step - loss: 18573166.0000 - val_loss: 22163888.0000\n",
      "Epoch 202/300\n",
      "91/91 [==============================] - 0s 970us/step - loss: 18581552.0000 - val_loss: 21848116.0000\n",
      "Epoch 203/300\n",
      "91/91 [==============================] - 0s 979us/step - loss: 18546204.0000 - val_loss: 22134212.0000\n",
      "Epoch 204/300\n",
      "91/91 [==============================] - 0s 941us/step - loss: 18538042.0000 - val_loss: 21794724.0000\n",
      "Epoch 205/300\n",
      "91/91 [==============================] - 0s 968us/step - loss: 18539360.0000 - val_loss: 22022490.0000\n",
      "Epoch 206/300\n",
      "91/91 [==============================] - 0s 963us/step - loss: 18497236.0000 - val_loss: 23080840.0000\n",
      "Epoch 207/300\n",
      "91/91 [==============================] - 0s 901us/step - loss: 18497590.0000 - val_loss: 22186802.0000\n",
      "Epoch 208/300\n",
      "91/91 [==============================] - 0s 915us/step - loss: 18474950.0000 - val_loss: 22362836.0000\n",
      "Epoch 209/300\n",
      "91/91 [==============================] - 0s 963us/step - loss: 18456610.0000 - val_loss: 22061370.0000\n",
      "Epoch 210/300\n",
      "91/91 [==============================] - 0s 953us/step - loss: 18452040.0000 - val_loss: 22260866.0000\n",
      "Epoch 211/300\n",
      "91/91 [==============================] - 0s 958us/step - loss: 18431568.0000 - val_loss: 21971136.0000\n",
      "Epoch 212/300\n",
      "91/91 [==============================] - 0s 909us/step - loss: 18404890.0000 - val_loss: 22363978.0000\n",
      "Epoch 213/300\n"
     ]
    },
    {
     "name": "stdout",
     "output_type": "stream",
     "text": [
      "91/91 [==============================] - 0s 994us/step - loss: 18402078.0000 - val_loss: 21821826.0000\n",
      "Epoch 214/300\n",
      "91/91 [==============================] - 0s 987us/step - loss: 18403802.0000 - val_loss: 22515364.0000\n",
      "Epoch 215/300\n",
      "91/91 [==============================] - 0s 1ms/step - loss: 18391082.0000 - val_loss: 22736840.0000\n",
      "Epoch 216/300\n",
      "91/91 [==============================] - 0s 1ms/step - loss: 18416590.0000 - val_loss: 22502790.0000\n",
      "Epoch 217/300\n",
      "91/91 [==============================] - 0s 964us/step - loss: 18351030.0000 - val_loss: 22862388.0000\n",
      "Epoch 218/300\n",
      "91/91 [==============================] - 0s 974us/step - loss: 18440630.0000 - val_loss: 21953598.0000\n",
      "Epoch 219/300\n",
      "91/91 [==============================] - 0s 987us/step - loss: 18357822.0000 - val_loss: 21920792.0000\n",
      "Epoch 220/300\n",
      "91/91 [==============================] - 0s 950us/step - loss: 18379436.0000 - val_loss: 22034944.0000\n",
      "Epoch 221/300\n",
      "91/91 [==============================] - 0s 1ms/step - loss: 18331774.0000 - val_loss: 21701112.0000\n",
      "Epoch 222/300\n",
      "91/91 [==============================] - 0s 965us/step - loss: 18341418.0000 - val_loss: 21929226.0000\n",
      "Epoch 223/300\n",
      "91/91 [==============================] - 0s 1ms/step - loss: 18341082.0000 - val_loss: 21361624.0000\n",
      "Epoch 224/300\n",
      "91/91 [==============================] - 0s 967us/step - loss: 18319550.0000 - val_loss: 21688694.0000\n",
      "Epoch 225/300\n",
      "91/91 [==============================] - 0s 1ms/step - loss: 18323606.0000 - val_loss: 22220792.0000\n",
      "Epoch 226/300\n",
      "91/91 [==============================] - 0s 944us/step - loss: 18318208.0000 - val_loss: 21559426.0000\n",
      "Epoch 227/300\n",
      "91/91 [==============================] - 0s 1ms/step - loss: 18281876.0000 - val_loss: 22715594.0000\n",
      "Epoch 228/300\n",
      "91/91 [==============================] - 0s 945us/step - loss: 18312040.0000 - val_loss: 22022072.0000\n",
      "Epoch 229/300\n",
      "91/91 [==============================] - 0s 997us/step - loss: 18276658.0000 - val_loss: 22152274.0000\n",
      "Epoch 230/300\n",
      "91/91 [==============================] - 0s 998us/step - loss: 18266946.0000 - val_loss: 21889886.0000\n",
      "Epoch 231/300\n",
      "91/91 [==============================] - 0s 1ms/step - loss: 18302398.0000 - val_loss: 21843008.0000\n",
      "Epoch 232/300\n",
      "91/91 [==============================] - 0s 962us/step - loss: 18292806.0000 - val_loss: 22266612.0000\n",
      "Epoch 233/300\n",
      "91/91 [==============================] - 0s 1ms/step - loss: 18291912.0000 - val_loss: 21741496.0000\n",
      "Epoch 234/300\n",
      "91/91 [==============================] - 0s 985us/step - loss: 18257172.0000 - val_loss: 22585484.0000\n",
      "Epoch 235/300\n",
      "91/91 [==============================] - 0s 974us/step - loss: 18282692.0000 - val_loss: 22173554.0000\n",
      "Epoch 236/300\n",
      "91/91 [==============================] - 0s 966us/step - loss: 18239730.0000 - val_loss: 22365708.0000\n",
      "Epoch 237/300\n",
      "91/91 [==============================] - 0s 963us/step - loss: 18238950.0000 - val_loss: 21649900.0000\n",
      "Epoch 238/300\n",
      "91/91 [==============================] - 0s 976us/step - loss: 18223638.0000 - val_loss: 22217514.0000\n",
      "Epoch 239/300\n",
      "91/91 [==============================] - 0s 932us/step - loss: 18217348.0000 - val_loss: 21289528.0000\n",
      "Epoch 240/300\n",
      "91/91 [==============================] - 0s 940us/step - loss: 18224386.0000 - val_loss: 22005712.0000\n",
      "Epoch 241/300\n",
      "91/91 [==============================] - 0s 1ms/step - loss: 18267486.0000 - val_loss: 22087478.0000\n",
      "Epoch 242/300\n",
      "91/91 [==============================] - 0s 1ms/step - loss: 18222288.0000 - val_loss: 22471416.0000\n",
      "Epoch 243/300\n",
      "91/91 [==============================] - 0s 1ms/step - loss: 18202508.0000 - val_loss: 21549868.0000\n",
      "Epoch 244/300\n",
      "91/91 [==============================] - 0s 986us/step - loss: 18192778.0000 - val_loss: 21711034.0000\n",
      "Epoch 245/300\n",
      "91/91 [==============================] - 0s 1ms/step - loss: 18217530.0000 - val_loss: 21395696.0000\n",
      "Epoch 246/300\n",
      "91/91 [==============================] - ETA: 0s - loss: 18147644.00 - 0s 1ms/step - loss: 18225530.0000 - val_loss: 21382724.0000\n",
      "Epoch 247/300\n",
      "91/91 [==============================] - 0s 1ms/step - loss: 18228664.0000 - val_loss: 21964438.0000\n",
      "Epoch 248/300\n",
      "91/91 [==============================] - 0s 934us/step - loss: 18191916.0000 - val_loss: 21978590.0000\n",
      "Epoch 249/300\n",
      "91/91 [==============================] - 0s 974us/step - loss: 18200744.0000 - val_loss: 21061296.0000\n",
      "Epoch 250/300\n",
      "91/91 [==============================] - 0s 936us/step - loss: 18196884.0000 - val_loss: 22318206.0000\n",
      "Epoch 251/300\n",
      "91/91 [==============================] - 0s 938us/step - loss: 18163718.0000 - val_loss: 21239172.0000\n",
      "Epoch 252/300\n",
      "91/91 [==============================] - 0s 1ms/step - loss: 18178696.0000 - val_loss: 21260516.0000\n",
      "Epoch 253/300\n",
      "91/91 [==============================] - 0s 1ms/step - loss: 18188460.0000 - val_loss: 21610788.0000\n",
      "Epoch 254/300\n",
      "91/91 [==============================] - 0s 975us/step - loss: 18157676.0000 - val_loss: 22104974.0000\n",
      "Epoch 255/300\n",
      "91/91 [==============================] - 0s 1ms/step - loss: 18158312.0000 - val_loss: 21453246.0000\n",
      "Epoch 256/300\n",
      "91/91 [==============================] - 0s 974us/step - loss: 18179294.0000 - val_loss: 21288060.0000\n",
      "Epoch 257/300\n",
      "91/91 [==============================] - 0s 943us/step - loss: 18185226.0000 - val_loss: 21589680.0000\n",
      "Epoch 258/300\n",
      "91/91 [==============================] - 0s 1ms/step - loss: 18191028.0000 - val_loss: 21317028.0000\n",
      "Epoch 259/300\n",
      "91/91 [==============================] - 0s 1ms/step - loss: 18116538.0000 - val_loss: 21332462.0000\n",
      "Epoch 260/300\n",
      "91/91 [==============================] - 0s 927us/step - loss: 18163484.0000 - val_loss: 22191874.0000\n",
      "Epoch 261/300\n",
      "91/91 [==============================] - 0s 962us/step - loss: 18138908.0000 - val_loss: 21777342.0000\n",
      "Epoch 262/300\n",
      "91/91 [==============================] - 0s 943us/step - loss: 18134066.0000 - val_loss: 22085578.0000\n",
      "Epoch 263/300\n",
      "91/91 [==============================] - 0s 957us/step - loss: 18144386.0000 - val_loss: 21996886.0000\n",
      "Epoch 264/300\n",
      "91/91 [==============================] - 0s 961us/step - loss: 18118810.0000 - val_loss: 21319874.0000\n",
      "Epoch 265/300\n",
      "91/91 [==============================] - 0s 1ms/step - loss: 18150936.0000 - val_loss: 21353184.0000\n",
      "Epoch 266/300\n",
      "91/91 [==============================] - 0s 1ms/step - loss: 18129104.0000 - val_loss: 21735234.0000\n",
      "Epoch 267/300\n",
      "91/91 [==============================] - 0s 956us/step - loss: 18116256.0000 - val_loss: 22292420.0000\n",
      "Epoch 268/300\n",
      "91/91 [==============================] - 0s 992us/step - loss: 18142344.0000 - val_loss: 21446558.0000\n",
      "Epoch 269/300\n",
      "91/91 [==============================] - 0s 968us/step - loss: 18125692.0000 - val_loss: 21937228.0000\n",
      "Epoch 270/300\n",
      "91/91 [==============================] - 0s 935us/step - loss: 18107796.0000 - val_loss: 21393434.0000\n",
      "Epoch 271/300\n",
      "91/91 [==============================] - 0s 1ms/step - loss: 18114602.0000 - val_loss: 21745460.0000\n",
      "Epoch 272/300\n",
      "91/91 [==============================] - 0s 943us/step - loss: 18126818.0000 - val_loss: 21246736.0000\n",
      "Epoch 273/300\n",
      "91/91 [==============================] - 0s 1ms/step - loss: 18125348.0000 - val_loss: 21792144.0000\n",
      "Epoch 274/300\n",
      "91/91 [==============================] - 0s 934us/step - loss: 18130986.0000 - val_loss: 21240902.0000\n",
      "Epoch 275/300\n",
      "91/91 [==============================] - 0s 1ms/step - loss: 18086524.0000 - val_loss: 21520914.0000\n",
      "Epoch 276/300\n",
      "91/91 [==============================] - 0s 937us/step - loss: 18117628.0000 - val_loss: 21458294.0000\n",
      "Epoch 277/300\n",
      "91/91 [==============================] - 0s 940us/step - loss: 18086892.0000 - val_loss: 21290514.0000\n",
      "Epoch 278/300\n",
      "91/91 [==============================] - 0s 1000us/step - loss: 18097996.0000 - val_loss: 21466000.0000\n",
      "Epoch 279/300\n",
      "91/91 [==============================] - 0s 933us/step - loss: 18096270.0000 - val_loss: 21570938.0000\n",
      "Epoch 280/300\n",
      "91/91 [==============================] - 0s 914us/step - loss: 18075156.0000 - val_loss: 21025564.0000\n",
      "Epoch 281/300\n",
      "91/91 [==============================] - 0s 936us/step - loss: 18108694.0000 - val_loss: 22540598.0000\n",
      "Epoch 282/300\n",
      "91/91 [==============================] - 0s 995us/step - loss: 18106366.0000 - val_loss: 20861114.0000\n",
      "Epoch 283/300\n"
     ]
    },
    {
     "name": "stdout",
     "output_type": "stream",
     "text": [
      "91/91 [==============================] - 0s 983us/step - loss: 18106704.0000 - val_loss: 21062224.0000\n",
      "Epoch 284/300\n",
      "91/91 [==============================] - 0s 1ms/step - loss: 18110232.0000 - val_loss: 21857422.0000\n",
      "Epoch 285/300\n",
      "91/91 [==============================] - 0s 949us/step - loss: 18100424.0000 - val_loss: 21806690.0000\n",
      "Epoch 286/300\n",
      "91/91 [==============================] - 0s 934us/step - loss: 18131354.0000 - val_loss: 21690774.0000\n",
      "Epoch 287/300\n",
      "91/91 [==============================] - 0s 945us/step - loss: 18093898.0000 - val_loss: 21707542.0000\n",
      "Epoch 288/300\n",
      "91/91 [==============================] - 0s 984us/step - loss: 18077400.0000 - val_loss: 21961582.0000\n",
      "Epoch 289/300\n",
      "91/91 [==============================] - 0s 944us/step - loss: 18059142.0000 - val_loss: 21532408.0000\n",
      "Epoch 290/300\n",
      "91/91 [==============================] - 0s 1ms/step - loss: 18072094.0000 - val_loss: 21225752.0000\n",
      "Epoch 291/300\n",
      "91/91 [==============================] - 0s 969us/step - loss: 18115982.0000 - val_loss: 21016152.0000\n",
      "Epoch 292/300\n",
      "91/91 [==============================] - 0s 996us/step - loss: 18073602.0000 - val_loss: 21009086.0000\n",
      "Epoch 293/300\n",
      "91/91 [==============================] - 0s 968us/step - loss: 18074084.0000 - val_loss: 21509408.0000\n",
      "Epoch 294/300\n",
      "91/91 [==============================] - 0s 985us/step - loss: 18050248.0000 - val_loss: 22014966.0000\n",
      "Epoch 295/300\n",
      "91/91 [==============================] - 0s 983us/step - loss: 18060398.0000 - val_loss: 21998820.0000\n",
      "Epoch 296/300\n",
      "91/91 [==============================] - 0s 951us/step - loss: 18047206.0000 - val_loss: 21757374.0000\n",
      "Epoch 297/300\n",
      "91/91 [==============================] - 0s 1ms/step - loss: 18053672.0000 - val_loss: 21313676.0000\n",
      "Epoch 298/300\n",
      "91/91 [==============================] - 0s 945us/step - loss: 18088080.0000 - val_loss: 21856886.0000\n",
      "Epoch 299/300\n",
      "91/91 [==============================] - 0s 988us/step - loss: 18078244.0000 - val_loss: 21437572.0000\n",
      "Epoch 300/300\n",
      "91/91 [==============================] - 0s 1ms/step - loss: 18055526.0000 - val_loss: 21936118.0000\n"
     ]
    },
    {
     "data": {
      "text/plain": [
       "<tensorflow.python.keras.callbacks.History at 0x1eb9ee2fdf0>"
      ]
     },
     "execution_count": 62,
     "metadata": {},
     "output_type": "execute_result"
    }
   ],
   "source": [
    "model.fit(x=x_train, y=y_train,epochs=300, validation_data=(x_test, y_test),batch_size=100)"
   ]
  },
  {
   "cell_type": "code",
   "execution_count": 63,
   "id": "a3c0659e",
   "metadata": {},
   "outputs": [],
   "source": [
    "lossData = pd.DataFrame(model.history.history)"
   ]
  },
  {
   "cell_type": "code",
   "execution_count": 64,
   "id": "93357926",
   "metadata": {},
   "outputs": [
    {
     "data": {
      "text/html": [
       "<div>\n",
       "<style scoped>\n",
       "    .dataframe tbody tr th:only-of-type {\n",
       "        vertical-align: middle;\n",
       "    }\n",
       "\n",
       "    .dataframe tbody tr th {\n",
       "        vertical-align: top;\n",
       "    }\n",
       "\n",
       "    .dataframe thead th {\n",
       "        text-align: right;\n",
       "    }\n",
       "</style>\n",
       "<table border=\"1\" class=\"dataframe\">\n",
       "  <thead>\n",
       "    <tr style=\"text-align: right;\">\n",
       "      <th></th>\n",
       "      <th>loss</th>\n",
       "      <th>val_loss</th>\n",
       "    </tr>\n",
       "  </thead>\n",
       "  <tbody>\n",
       "    <tr>\n",
       "      <th>0</th>\n",
       "      <td>672117824.0</td>\n",
       "      <td>688008640.0</td>\n",
       "    </tr>\n",
       "    <tr>\n",
       "      <th>1</th>\n",
       "      <td>671599616.0</td>\n",
       "      <td>686548544.0</td>\n",
       "    </tr>\n",
       "    <tr>\n",
       "      <th>2</th>\n",
       "      <td>667109312.0</td>\n",
       "      <td>676774464.0</td>\n",
       "    </tr>\n",
       "    <tr>\n",
       "      <th>3</th>\n",
       "      <td>646634048.0</td>\n",
       "      <td>640208192.0</td>\n",
       "    </tr>\n",
       "    <tr>\n",
       "      <th>4</th>\n",
       "      <td>586426304.0</td>\n",
       "      <td>548283456.0</td>\n",
       "    </tr>\n",
       "    <tr>\n",
       "      <th>...</th>\n",
       "      <td>...</td>\n",
       "      <td>...</td>\n",
       "    </tr>\n",
       "    <tr>\n",
       "      <th>295</th>\n",
       "      <td>18047206.0</td>\n",
       "      <td>21757374.0</td>\n",
       "    </tr>\n",
       "    <tr>\n",
       "      <th>296</th>\n",
       "      <td>18053672.0</td>\n",
       "      <td>21313676.0</td>\n",
       "    </tr>\n",
       "    <tr>\n",
       "      <th>297</th>\n",
       "      <td>18088080.0</td>\n",
       "      <td>21856886.0</td>\n",
       "    </tr>\n",
       "    <tr>\n",
       "      <th>298</th>\n",
       "      <td>18078244.0</td>\n",
       "      <td>21437572.0</td>\n",
       "    </tr>\n",
       "    <tr>\n",
       "      <th>299</th>\n",
       "      <td>18055526.0</td>\n",
       "      <td>21936118.0</td>\n",
       "    </tr>\n",
       "  </tbody>\n",
       "</table>\n",
       "<p>300 rows × 2 columns</p>\n",
       "</div>"
      ],
      "text/plain": [
       "            loss     val_loss\n",
       "0    672117824.0  688008640.0\n",
       "1    671599616.0  686548544.0\n",
       "2    667109312.0  676774464.0\n",
       "3    646634048.0  640208192.0\n",
       "4    586426304.0  548283456.0\n",
       "..           ...          ...\n",
       "295   18047206.0   21757374.0\n",
       "296   18053672.0   21313676.0\n",
       "297   18088080.0   21856886.0\n",
       "298   18078244.0   21437572.0\n",
       "299   18055526.0   21936118.0\n",
       "\n",
       "[300 rows x 2 columns]"
      ]
     },
     "execution_count": 64,
     "metadata": {},
     "output_type": "execute_result"
    }
   ],
   "source": [
    "lossData"
   ]
  },
  {
   "cell_type": "code",
   "execution_count": 70,
   "id": "20b8410b",
   "metadata": {},
   "outputs": [
    {
     "data": {
      "text/plain": [
       "672117824.0"
      ]
     },
     "execution_count": 70,
     "metadata": {},
     "output_type": "execute_result"
    }
   ],
   "source": [
    "lossData['loss'].max()"
   ]
  },
  {
   "cell_type": "code",
   "execution_count": 74,
   "id": "cad32850",
   "metadata": {},
   "outputs": [
    {
     "data": {
      "text/plain": [
       "<AxesSubplot:>"
      ]
     },
     "execution_count": 74,
     "metadata": {},
     "output_type": "execute_result"
    },
    {
     "data": {
      "image/png": "[encoded data removed]",
      "text/plain": [
       "<Figure size 432x288 with 1 Axes>"
      ]
     },
     "metadata": {},
     "output_type": "display_data"
    }
   ],
   "source": [
    "\n",
    "lossData.plot()"
   ]
  },
  {
   "cell_type": "code",
   "execution_count": 75,
   "id": "c5884687",
   "metadata": {},
   "outputs": [],
   "source": [
    "# overfitting olusmamis ♥"
   ]
  },
  {
   "cell_type": "code",
   "execution_count": 76,
   "id": "22f1726c",
   "metadata": {},
   "outputs": [],
   "source": [
    "from sklearn.metrics import mean_absolute_error ,mean_squared_error\n"
   ]
  },
  {
   "cell_type": "code",
   "execution_count": 77,
   "id": "de8b59f3",
   "metadata": {},
   "outputs": [],
   "source": [
    "tahminDizisi = model.predict(x_test)"
   ]
  },
  {
   "cell_type": "code",
   "execution_count": 78,
   "id": "d2aa5ec0",
   "metadata": {},
   "outputs": [
    {
     "data": {
      "text/plain": [
       "array([[20019.68 ],\n",
       "       [21895.031],\n",
       "       [24135.594],\n",
       "       ...,\n",
       "       [24933.734],\n",
       "       [13321.672],\n",
       "       [23632.768]], dtype=float32)"
      ]
     },
     "execution_count": 78,
     "metadata": {},
     "output_type": "execute_result"
    }
   ],
   "source": [
    "tahminDizisi"
   ]
  },
  {
   "cell_type": "code",
   "execution_count": 79,
   "id": "b142a5c3",
   "metadata": {},
   "outputs": [
    {
     "data": {
      "text/plain": [
       "3354.678356720785"
      ]
     },
     "execution_count": 79,
     "metadata": {},
     "output_type": "execute_result"
    }
   ],
   "source": [
    "mean_absolute_error(y_test, tahminDizisi)"
   ]
  },
  {
   "cell_type": "code",
   "execution_count": 80,
   "id": "3178e93f",
   "metadata": {},
   "outputs": [],
   "source": [
    "# yani yaklasik %13 luk bi fark demektir"
   ]
  },
  {
   "cell_type": "code",
   "execution_count": 83,
   "id": "273eb6e6",
   "metadata": {},
   "outputs": [
    {
     "data": {
      "text/html": [
       "<div>\n",
       "<style scoped>\n",
       "    .dataframe tbody tr th:only-of-type {\n",
       "        vertical-align: middle;\n",
       "    }\n",
       "\n",
       "    .dataframe tbody tr th {\n",
       "        vertical-align: top;\n",
       "    }\n",
       "\n",
       "    .dataframe thead th {\n",
       "        text-align: right;\n",
       "    }\n",
       "</style>\n",
       "<table border=\"1\" class=\"dataframe\">\n",
       "  <thead>\n",
       "    <tr style=\"text-align: right;\">\n",
       "      <th></th>\n",
       "      <th>year</th>\n",
       "      <th>price</th>\n",
       "      <th>mileage</th>\n",
       "      <th>tax</th>\n",
       "      <th>mpg</th>\n",
       "      <th>engineSize</th>\n",
       "    </tr>\n",
       "  </thead>\n",
       "  <tbody>\n",
       "    <tr>\n",
       "      <th>count</th>\n",
       "      <td>12987.000000</td>\n",
       "      <td>12987.000000</td>\n",
       "      <td>12987.000000</td>\n",
       "      <td>12987.000000</td>\n",
       "      <td>12987.000000</td>\n",
       "      <td>12987.000000</td>\n",
       "    </tr>\n",
       "    <tr>\n",
       "      <th>mean</th>\n",
       "      <td>2017.285516</td>\n",
       "      <td>24074.855779</td>\n",
       "      <td>22133.367367</td>\n",
       "      <td>129.676215</td>\n",
       "      <td>55.438392</td>\n",
       "      <td>2.051059</td>\n",
       "    </tr>\n",
       "    <tr>\n",
       "      <th>std</th>\n",
       "      <td>2.189633</td>\n",
       "      <td>9866.601115</td>\n",
       "      <td>21197.472376</td>\n",
       "      <td>65.167429</td>\n",
       "      <td>15.025902</td>\n",
       "      <td>0.532313</td>\n",
       "    </tr>\n",
       "    <tr>\n",
       "      <th>min</th>\n",
       "      <td>1997.000000</td>\n",
       "      <td>650.000000</td>\n",
       "      <td>1.000000</td>\n",
       "      <td>0.000000</td>\n",
       "      <td>1.100000</td>\n",
       "      <td>0.000000</td>\n",
       "    </tr>\n",
       "    <tr>\n",
       "      <th>25%</th>\n",
       "      <td>2016.000000</td>\n",
       "      <td>17355.000000</td>\n",
       "      <td>6320.000000</td>\n",
       "      <td>125.000000</td>\n",
       "      <td>45.600000</td>\n",
       "      <td>1.700000</td>\n",
       "    </tr>\n",
       "    <tr>\n",
       "      <th>50%</th>\n",
       "      <td>2018.000000</td>\n",
       "      <td>22299.000000</td>\n",
       "      <td>15371.000000</td>\n",
       "      <td>145.000000</td>\n",
       "      <td>56.500000</td>\n",
       "      <td>2.000000</td>\n",
       "    </tr>\n",
       "    <tr>\n",
       "      <th>75%</th>\n",
       "      <td>2019.000000</td>\n",
       "      <td>28706.000000</td>\n",
       "      <td>31986.500000</td>\n",
       "      <td>145.000000</td>\n",
       "      <td>64.200000</td>\n",
       "      <td>2.100000</td>\n",
       "    </tr>\n",
       "    <tr>\n",
       "      <th>max</th>\n",
       "      <td>2020.000000</td>\n",
       "      <td>65990.000000</td>\n",
       "      <td>259000.000000</td>\n",
       "      <td>580.000000</td>\n",
       "      <td>217.300000</td>\n",
       "      <td>6.200000</td>\n",
       "    </tr>\n",
       "  </tbody>\n",
       "</table>\n",
       "</div>"
      ],
      "text/plain": [
       "               year         price        mileage           tax           mpg  \\\n",
       "count  12987.000000  12987.000000   12987.000000  12987.000000  12987.000000   \n",
       "mean    2017.285516  24074.855779   22133.367367    129.676215     55.438392   \n",
       "std        2.189633   9866.601115   21197.472376     65.167429     15.025902   \n",
       "min     1997.000000    650.000000       1.000000      0.000000      1.100000   \n",
       "25%     2016.000000  17355.000000    6320.000000    125.000000     45.600000   \n",
       "50%     2018.000000  22299.000000   15371.000000    145.000000     56.500000   \n",
       "75%     2019.000000  28706.000000   31986.500000    145.000000     64.200000   \n",
       "max     2020.000000  65990.000000  259000.000000    580.000000    217.300000   \n",
       "\n",
       "         engineSize  \n",
       "count  12987.000000  \n",
       "mean       2.051059  \n",
       "std        0.532313  \n",
       "min        0.000000  \n",
       "25%        1.700000  \n",
       "50%        2.000000  \n",
       "75%        2.100000  \n",
       "max        6.200000  "
      ]
     },
     "execution_count": 83,
     "metadata": {},
     "output_type": "execute_result"
    }
   ],
   "source": [
    "newdf.describe()"
   ]
  },
  {
   "cell_type": "code",
   "execution_count": 84,
   "id": "3e4134c5",
   "metadata": {},
   "outputs": [
    {
     "data": {
      "text/plain": [
       "<matplotlib.collections.PathCollection at 0x1eba09a6490>"
      ]
     },
     "execution_count": 84,
     "metadata": {},
     "output_type": "execute_result"
    },
    {
     "data": {
      "image/png": "[encoded data removed]",
      "text/plain": [
       "<Figure size 432x288 with 1 Axes>"
      ]
     },
     "metadata": {},
     "output_type": "display_data"
    }
   ],
   "source": [
    "plt.scatter(y_test, tahminDizisi)"
   ]
  },
  {
   "cell_type": "code",
   "execution_count": 86,
   "id": "e99a5799",
   "metadata": {},
   "outputs": [
    {
     "data": {
      "text/plain": [
       "[<matplotlib.lines.Line2D at 0x1eba1473670>]"
      ]
     },
     "execution_count": 86,
     "metadata": {},
     "output_type": "execute_result"
    },
    {
     "data": {
      "image/png": "[encoded data removed]",
      "text/plain": [
       "<Figure size 432x288 with 1 Axes>"
      ]
     },
     "metadata": {},
     "output_type": "display_data"
    }
   ],
   "source": [
    "plt.scatter(y_test, tahminDizisi)\n",
    "plt.plot(y_test,y_test,'go' )"
   ]
  },
  {
   "cell_type": "code",
   "execution_count": 88,
   "id": "7bcf87ed",
   "metadata": {},
   "outputs": [],
   "source": [
    "yeniAraba = newdf.drop('price', axis=1).iloc[2]"
   ]
  },
  {
   "cell_type": "code",
   "execution_count": 89,
   "id": "65ee90e9",
   "metadata": {},
   "outputs": [
    {
     "data": {
      "text/plain": [
       "pandas.core.series.Series"
      ]
     },
     "execution_count": 89,
     "metadata": {},
     "output_type": "execute_result"
    }
   ],
   "source": [
    "type(yeniAraba)"
   ]
  },
  {
   "cell_type": "code",
   "execution_count": 93,
   "id": "69167d85",
   "metadata": {},
   "outputs": [],
   "source": [
    "yeniAraba = scaler.transform(yeniAraba.values.reshape(-1,5))"
   ]
  },
  {
   "cell_type": "code",
   "execution_count": 94,
   "id": "a12552df",
   "metadata": {},
   "outputs": [
    {
     "data": {
      "text/plain": [
       "array([[61740.027]], dtype=float32)"
      ]
     },
     "execution_count": 94,
     "metadata": {},
     "output_type": "execute_result"
    }
   ],
   "source": [
    "model.predict(yeniAraba)"
   ]
  },
  {
   "cell_type": "code",
   "execution_count": 95,
   "id": "60d7a86d",
   "metadata": {},
   "outputs": [
    {
     "data": {
      "text/plain": [
       "year           2020.0\n",
       "price         65980.0\n",
       "mileage        3999.0\n",
       "tax             145.0\n",
       "mpg              28.0\n",
       "engineSize        4.0\n",
       "Name: 3191, dtype: float64"
      ]
     },
     "execution_count": 95,
     "metadata": {},
     "output_type": "execute_result"
    }
   ],
   "source": [
    "newdf.iloc[2]"
   ]
  },
  {
   "cell_type": "code",
   "execution_count": null,
   "id": "61fc699a",
   "metadata": {},
   "outputs": [],
   "source": [
    "# fiyati 65000 olan arababnin fiyatini 61000 tahmin etti"
   ]
  }
 ],
 "metadata": {
  "kernelspec": {
   "display_name": "Python 3",
   "language": "python",
   "name": "python3"
  },
  "language_info": {
   "codemirror_mode": {
    "name": "ipython",
    "version": 3
   },
   "file_extension": ".py",
   "mimetype": "text/x-python",
   "name": "python",
   "nbconvert_exporter": "python",
   "pygments_lexer": "ipython3",
   "version": "3.8.8"
  }
 },
 "nbformat": 4,
 "nbformat_minor": 5
}
